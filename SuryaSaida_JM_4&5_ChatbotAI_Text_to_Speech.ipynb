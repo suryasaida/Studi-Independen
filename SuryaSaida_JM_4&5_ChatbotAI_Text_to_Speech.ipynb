{
  "cells": [
    {
      "cell_type": "markdown",
      "metadata": {
        "id": "view-in-github",
        "colab_type": "text"
      },
      "source": [
        "<a href=\"https://colab.research.google.com/github/suryasaida/Studi-Independen/blob/main/SuryaSaida_JM_4%265_ChatbotAI_Text_to_Speech.ipynb\" target=\"_parent\"><img src=\"https://colab.research.google.com/assets/colab-badge.svg\" alt=\"Open In Colab\"/></a>"
      ]
    },
    {
      "cell_type": "markdown",
      "metadata": {
        "id": "za1gVNL5CRGY"
      },
      "source": [
        "# AI Chatbot in Python\n",
        "> Chatbot sederhana ini menggunakan konsep sederhana penerapan Cosine Similarity\n",
        "\n",
        "> Disini program Chatbot dibuat dengan sesuai kebutuhan pengguna, jadi kita bisa memilih apakah harus membuat program ini bisa bekerja pada topik tertentu, misalnya untuk Chatbot berbasis Covid-19, atau yang lainnya yang sedang relevan."
      ]
    },
    {
      "cell_type": "code",
      "execution_count": 1,
      "metadata": {
        "id": "yE4rWjtACRGf"
      },
      "outputs": [],
      "source": [
        "#sumber materi : https://towardsdatascience.com/making-a-simple-and-fast-chatbot-in-10-minutes-2d84a4ba35e\n",
        "#https://youtu.be/9KZwRBg4-P0"
      ]
    },
    {
      "cell_type": "markdown",
      "metadata": {
        "id": "YZW2gMYW-ZBR"
      },
      "source": [
        "# Tools scraping Artikel\n",
        "\n",
        "Pada program kali ini kita akan mengambil teks dari internet menggunakan tools newspaper3k, dimana tools ini memiliki beberapa kelebihan yaitu:\n",
        "1. Kerangka kerja dalam mengunduh artikel yang multi-thread\n",
        "2. Dapat mengidentifikasi URL baru\n",
        "3. Mampu mengekstraksi teks dari HTML\n",
        "4. Terbaik dalam hal ekstraksi gambar dari HTML\n",
        "5. Mampu mengekstraksi semua gambar dari HTML\n",
        "6. Dapat mengekstraksi kata kunci dari teks\n",
        "7. Dapat mengekstrak ringkasan teks\n",
        "8. Dapat mengekstraksi nama penulis suatu artikel\n",
        "9. Dapat mengekstraksi istilah yang sedang trend di mesin pencarian Google\n",
        "10. Dapat bekerja lebih dari 10 bahasa (termasuk Inggris, Jerman, Arab, China, dll)"
      ]
    },
    {
      "cell_type": "code",
      "execution_count": 2,
      "metadata": {
        "colab": {
          "base_uri": "https://localhost:8080/"
        },
        "id": "Q9_mnPq6NPUy",
        "outputId": "ef5305e0-a378-442f-c862-07834a2e2061"
      },
      "outputs": [
        {
          "output_type": "stream",
          "name": "stdout",
          "text": [
            "Collecting gtts\n",
            "  Downloading gTTS-2.2.4-py3-none-any.whl (26 kB)\n",
            "Requirement already satisfied: six in /usr/local/lib/python3.7/dist-packages (from gtts) (1.15.0)\n",
            "Requirement already satisfied: click in /usr/local/lib/python3.7/dist-packages (from gtts) (7.1.2)\n",
            "Requirement already satisfied: requests in /usr/local/lib/python3.7/dist-packages (from gtts) (2.23.0)\n",
            "Requirement already satisfied: idna<3,>=2.5 in /usr/local/lib/python3.7/dist-packages (from requests->gtts) (2.10)\n",
            "Requirement already satisfied: chardet<4,>=3.0.2 in /usr/local/lib/python3.7/dist-packages (from requests->gtts) (3.0.4)\n",
            "Requirement already satisfied: urllib3!=1.25.0,!=1.25.1,<1.26,>=1.21.1 in /usr/local/lib/python3.7/dist-packages (from requests->gtts) (1.24.3)\n",
            "Requirement already satisfied: certifi>=2017.4.17 in /usr/local/lib/python3.7/dist-packages (from requests->gtts) (2021.10.8)\n",
            "Installing collected packages: gtts\n",
            "Successfully installed gtts-2.2.4\n"
          ]
        }
      ],
      "source": [
        "!pip install gtts"
      ]
    },
    {
      "cell_type": "code",
      "execution_count": 3,
      "metadata": {
        "colab": {
          "base_uri": "https://localhost:8080/"
        },
        "id": "ye3nyhSyCRGi",
        "outputId": "66b2ada8-75b9-4a02-8ce3-26d6b3a25e89"
      },
      "outputs": [
        {
          "output_type": "stream",
          "name": "stdout",
          "text": [
            "Collecting newspaper3k\n",
            "  Downloading newspaper3k-0.2.8-py3-none-any.whl (211 kB)\n",
            "\u001b[K     |████████████████████████████████| 211 kB 5.2 MB/s \n",
            "\u001b[?25hRequirement already satisfied: beautifulsoup4>=4.4.1 in /usr/local/lib/python3.7/dist-packages (from newspaper3k) (4.6.3)\n",
            "Collecting tldextract>=2.0.1\n",
            "  Downloading tldextract-3.2.1-py3-none-any.whl (87 kB)\n",
            "\u001b[K     |████████████████████████████████| 87 kB 3.2 MB/s \n",
            "\u001b[?25hRequirement already satisfied: PyYAML>=3.11 in /usr/local/lib/python3.7/dist-packages (from newspaper3k) (3.13)\n",
            "Requirement already satisfied: lxml>=3.6.0 in /usr/local/lib/python3.7/dist-packages (from newspaper3k) (4.2.6)\n",
            "Collecting feedfinder2>=0.0.4\n",
            "  Downloading feedfinder2-0.0.4.tar.gz (3.3 kB)\n",
            "Requirement already satisfied: requests>=2.10.0 in /usr/local/lib/python3.7/dist-packages (from newspaper3k) (2.23.0)\n",
            "Collecting cssselect>=0.9.2\n",
            "  Downloading cssselect-1.1.0-py2.py3-none-any.whl (16 kB)\n",
            "Requirement already satisfied: nltk>=3.2.1 in /usr/local/lib/python3.7/dist-packages (from newspaper3k) (3.2.5)\n",
            "Collecting feedparser>=5.2.1\n",
            "  Downloading feedparser-6.0.8-py3-none-any.whl (81 kB)\n",
            "\u001b[K     |████████████████████████████████| 81 kB 7.9 MB/s \n",
            "\u001b[?25hCollecting jieba3k>=0.35.1\n",
            "  Downloading jieba3k-0.35.1.zip (7.4 MB)\n",
            "\u001b[K     |████████████████████████████████| 7.4 MB 36.3 MB/s \n",
            "\u001b[?25hRequirement already satisfied: Pillow>=3.3.0 in /usr/local/lib/python3.7/dist-packages (from newspaper3k) (7.1.2)\n",
            "Collecting tinysegmenter==0.3\n",
            "  Downloading tinysegmenter-0.3.tar.gz (16 kB)\n",
            "Requirement already satisfied: python-dateutil>=2.5.3 in /usr/local/lib/python3.7/dist-packages (from newspaper3k) (2.8.2)\n",
            "Requirement already satisfied: six in /usr/local/lib/python3.7/dist-packages (from feedfinder2>=0.0.4->newspaper3k) (1.15.0)\n",
            "Collecting sgmllib3k\n",
            "  Downloading sgmllib3k-1.0.0.tar.gz (5.8 kB)\n",
            "Requirement already satisfied: urllib3!=1.25.0,!=1.25.1,<1.26,>=1.21.1 in /usr/local/lib/python3.7/dist-packages (from requests>=2.10.0->newspaper3k) (1.24.3)\n",
            "Requirement already satisfied: chardet<4,>=3.0.2 in /usr/local/lib/python3.7/dist-packages (from requests>=2.10.0->newspaper3k) (3.0.4)\n",
            "Requirement already satisfied: idna<3,>=2.5 in /usr/local/lib/python3.7/dist-packages (from requests>=2.10.0->newspaper3k) (2.10)\n",
            "Requirement already satisfied: certifi>=2017.4.17 in /usr/local/lib/python3.7/dist-packages (from requests>=2.10.0->newspaper3k) (2021.10.8)\n",
            "Requirement already satisfied: filelock>=3.0.8 in /usr/local/lib/python3.7/dist-packages (from tldextract>=2.0.1->newspaper3k) (3.6.0)\n",
            "Collecting requests-file>=1.4\n",
            "  Downloading requests_file-1.5.1-py2.py3-none-any.whl (3.7 kB)\n",
            "Building wheels for collected packages: tinysegmenter, feedfinder2, jieba3k, sgmllib3k\n",
            "  Building wheel for tinysegmenter (setup.py) ... \u001b[?25l\u001b[?25hdone\n",
            "  Created wheel for tinysegmenter: filename=tinysegmenter-0.3-py3-none-any.whl size=13553 sha256=67facaf953a87b3be2973ea1e0c8bd6e81d3b5e939809eeddb2f586892ef92fa\n",
            "  Stored in directory: /root/.cache/pip/wheels/df/67/41/faca10fa501ca010be41b49d40360c2959e1c4f09bcbfa37fa\n",
            "  Building wheel for feedfinder2 (setup.py) ... \u001b[?25l\u001b[?25hdone\n",
            "  Created wheel for feedfinder2: filename=feedfinder2-0.0.4-py3-none-any.whl size=3357 sha256=551b45b6c8a381206c14e7b632c78be7d119b375a9eeb9df61a9d4b8a3236102\n",
            "  Stored in directory: /root/.cache/pip/wheels/7f/d4/8f/6e2ca54744c9d7292d88ddb8d42876bcdab5e6d84a21c10346\n",
            "  Building wheel for jieba3k (setup.py) ... \u001b[?25l\u001b[?25hdone\n",
            "  Created wheel for jieba3k: filename=jieba3k-0.35.1-py3-none-any.whl size=7398404 sha256=c1803ee6ee64a03f8a9490d3aca34e84e8049d035916495f28994e1da8eac997\n",
            "  Stored in directory: /root/.cache/pip/wheels/4c/91/46/3c208287b726df325a5979574324878b679116e4baae1af3c3\n",
            "  Building wheel for sgmllib3k (setup.py) ... \u001b[?25l\u001b[?25hdone\n",
            "  Created wheel for sgmllib3k: filename=sgmllib3k-1.0.0-py3-none-any.whl size=6066 sha256=cba3858a43146c6acb0fe34ed2db38d1cd1ff87eb8ac2cdf072982c6f6589fda\n",
            "  Stored in directory: /root/.cache/pip/wheels/73/ad/a4/0dff4a6ef231fc0dfa12ffbac2a36cebfdddfe059f50e019aa\n",
            "Successfully built tinysegmenter feedfinder2 jieba3k sgmllib3k\n",
            "Installing collected packages: sgmllib3k, requests-file, tldextract, tinysegmenter, jieba3k, feedparser, feedfinder2, cssselect, newspaper3k\n",
            "Successfully installed cssselect-1.1.0 feedfinder2-0.0.4 feedparser-6.0.8 jieba3k-0.35.1 newspaper3k-0.2.8 requests-file-1.5.1 sgmllib3k-1.0.0 tinysegmenter-0.3 tldextract-3.2.1\n"
          ]
        }
      ],
      "source": [
        "!pip install newspaper3k"
      ]
    },
    {
      "cell_type": "code",
      "execution_count": 4,
      "metadata": {
        "id": "4FGmgeEECRGi"
      },
      "outputs": [],
      "source": [
        "# Import library\n",
        "from newspaper import Article\n",
        "import random\n",
        "import nltk\n",
        "import string\n",
        "from sklearn.feature_extraction.text import CountVectorizer\n",
        "from sklearn.metrics.pairwise import cosine_similarity\n",
        "import numpy as np\n",
        "import pandas as pd\n",
        "import warnings\n",
        "import re\n",
        "warnings.filterwarnings('ignore')\n",
        "\n",
        "from gtts import gTTS\n",
        "import IPython.display as ipd\n",
        "import time\n",
        "from io import BytesIO"
      ]
    },
    {
      "cell_type": "code",
      "execution_count": 5,
      "metadata": {
        "colab": {
          "base_uri": "https://localhost:8080/"
        },
        "id": "Sa8BD2nwCRGj",
        "outputId": "8c3dbbc0-15f7-458c-8dc8-25d4dfd5dcd0"
      },
      "outputs": [
        {
          "output_type": "execute_result",
          "data": {
            "text/plain": [
              "True"
            ]
          },
          "metadata": {},
          "execution_count": 5
        }
      ],
      "source": [
        "nltk.download('punkt', quiet=True)"
      ]
    },
    {
      "cell_type": "markdown",
      "metadata": {
        "id": "LTnOWF68CRGk"
      },
      "source": [
        "# Proses 1 (Membuat korpus dengan mendownload artikel dari sebuah link)\n",
        "\n",
        "Link dapat diganti dengan link teks berbhasa Indonesia, tetapi kali ini kita mencoba menggunakan teks berbahasa Inggris terlebih dahulu. "
      ]
    },
    {
      "cell_type": "code",
      "execution_count": 6,
      "metadata": {
        "colab": {
          "base_uri": "https://localhost:8080/"
        },
        "id": "otZH3R0eCRGk",
        "outputId": "ad8ab9c1-aeb9-4761-f407-dd7c9e2c7865"
      },
      "outputs": [
        {
          "output_type": "stream",
          "name": "stdout",
          "text": [
            "Learn more from kidney doctor Andrew Bentall, M.D.\n",
            "\n",
            "I'm Dr. Andrew Bentall, a kidney doctor at Mayo Clinic. I look after patients with kidney disease, either in the early stages, or with more advanced kidney disease considering dialysis and transplantation as treatment options. In this video, we'll cover the basics of chronic kidney disease. What is it? Who gets it? The symptoms, diagnosis and treatment. Whether you are looking for answers for yourself or for someone you love, we're here to give you the best information available.\n",
            "\n",
            "Chronic kidney disease is a disease characterized by progressive damage and loss of function in the kidneys. It's estimated that chronic kidney disease affects about one in seven American adults. And most of those don't know they have it. Before we get into the disease itself, let's talk a little bit about the kidneys and what they do. Our kidneys play many important roles keeping our bodies in balance. They remove waste and toxins, excess water from the bloodstream, which is carried out of the body in urine. They helped to make hormones to produce red blood cells, and they turn vitamin D into its active form, so it's usable in the body.\n",
            "\n",
            "There are quite a few things that can cause or put you at higher risk for chronic kidney disease. Some of them are not things that can be avoided. Your risk is simply higher if you have a family history of certain genetic conditions like polycystic kidney disease or some autoimmune diseases like lupus or IgA nephropathy. Defects in the kidney structure can also cause your kidneys to fail, and you have an increased risk as you get older. Sometimes, other common medical conditions can increase your risk. Diabetes is the most common cause of kidney disease. Both type 1 and type 2 diabetes. But also heart disease and obesity can contribute to the damage that causes kidneys to fail. Urinary tract issues and inflammation in different parts of the kidney can also lead to long-term functional decline. There are things that are more under our control: Heavy or long-term use of certain medications, even those that are common over-the-counter. Smoking can also be a contributing factor to chronic kidney disease.\n",
            "\n",
            "Often there are no outward signs in the earlier stages of chronic kidney disease, which is grouped into stages 1 through 5. Generally, earlier stages are known as 1 to 3. And as kidney disease progresses, you may notice the following symptoms. Nausea and vomiting, muscle cramps, loss of appetite, swelling via feet and ankles, dry, itchy skin, shortness of breath, trouble sleeping, urinating either too much or too little. However, these are usually in the later stages, but they can also happen in other disorders. So don't automatically interpret this as having kidney disease. But if you're experiencing anything that concerns you, you should make an appointment with your doctor.\n",
            "\n",
            "Even before any symptoms appear, routine blood work can indicate that you might be in the early stages of chronic kidney disease. And the earlier it's detected, the easier it is to treat. This is why regular checkups with your doctor are important. If your doctor suspects the onset of chronic kidney disease, they may schedule a variety of other tests. They may also refer you to a kidney specialist, a nephrologist like myself. Urine tests can reveal abnormalities and give clues to the underlying cause of the chronic kidney disease. And this can also help to determine the underlying issues. Various imaging tests like ultrasounds or CT scans can be done to help your doctor assess the size, the structure, as well as evaluate the visible damage, inflammation or stones of your kidneys. And in some cases, a kidney biopsy may be necessary. And a small amount of tissue is taken with a needle and sent to the pathologist for further analysis.\n",
            "\n",
            "Treatment is determined by what is causing your kidneys to not function normally. Treating the cause is key, leading to reduced complications and slowing progression of kidney disease. For example, getting better blood pressure control, improved sugar control and diabetes, and reducing weight are often key interventions. However, existing damage is not usually reversible. In some conditions, treatment can reverse the cause of the disease. So seeking medical review is really important. Individual complications vary, but treatment might include high blood pressure medication, diuretics to reduce fluid and swelling, supplements to relieve anemia, statins to lower cholesterol, or medications to protect your bones and prevent blood vessel calcification. A lower-protein diet may also be recommended. It reduces the amount of waste your kidneys need to filter from your blood. These can not only slow the damage of kidney disease, but make you feel better as well. When the damage has progressed to the point that 85 to 90 percent of your kidney function is gone, and they no longer work well enough to keep you alive, it's called end-stage kidney failure. But there are still options. There's dialysis, which uses a machine to filter the toxins and remove water from your body as your kidneys are no longer able to do this. Where possible, the preferred therapy is a kidney transplant. While an organ transplant can sound daunting, it's actually often the better alternative, and the closest thing to a cure, if you qualify for a kidney transplant.\n",
            "\n",
            "If you have kidney disease, there are lifestyle choices. Namely quit smoking. Consuming alcohol in moderation. If you're overweight or obese, then try to lose weight. Staying active and getting exercise can help not only with your weight, but fatigue and stress. If your condition allows, keep up with your routine, whether that's working, hobbies, social activities, or other things you enjoy. It can be helpful to talk to someone you trust, a friend or relative who's good at listening. Or your doctor could also refer you to a therapist or social worker. It can also be helpful to find a support group and connect with people going through the same thing. Learning you have chronic kidney disease and learning how to live with it can be a challenge. But there are lots of ways to help you to be more comfortable for longer before more drastic measures are needed. And even then, there is plenty of hope. If you'd like to learn even more about chronic kidney disease, watch our other related videos or visit mayoclinic.org. We wish you well.\n"
          ]
        }
      ],
      "source": [
        "article = Article('https://www.mayoclinic.org/diseases-conditions/chronic-kidney-disease/symptoms-causes/syc-20354521')\n",
        "article.download()\n",
        "article.parse()\n",
        "article.nlp()\n",
        "corpus = article.text\n",
        "print(corpus)"
      ]
    },
    {
      "cell_type": "markdown",
      "metadata": {
        "id": "bGmRAQ9WCRGl"
      },
      "source": [
        "# Proses 2 (Tokenization)"
      ]
    },
    {
      "cell_type": "code",
      "execution_count": 7,
      "metadata": {
        "colab": {
          "base_uri": "https://localhost:8080/"
        },
        "id": "vh1UaZ3kCRGl",
        "outputId": "c8a50f63-8037-439f-cd85-2c48ce9d4ae9"
      },
      "outputs": [
        {
          "output_type": "stream",
          "name": "stdout",
          "text": [
            "['Learn more from kidney doctor Andrew Bentall, M.D.', \"I'm Dr. Andrew Bentall, a kidney doctor at Mayo Clinic.\", 'I look after patients with kidney disease, either in the early stages, or with more advanced kidney disease considering dialysis and transplantation as treatment options.', \"In this video, we'll cover the basics of chronic kidney disease.\", 'What is it?', 'Who gets it?', 'The symptoms, diagnosis and treatment.', \"Whether you are looking for answers for yourself or for someone you love, we're here to give you the best information available.\", 'Chronic kidney disease is a disease characterized by progressive damage and loss of function in the kidneys.', \"It's estimated that chronic kidney disease affects about one in seven American adults.\", \"And most of those don't know they have it.\", \"Before we get into the disease itself, let's talk a little bit about the kidneys and what they do.\", 'Our kidneys play many important roles keeping our bodies in balance.', 'They remove waste and toxins, excess water from the bloodstream, which is carried out of the body in urine.', \"They helped to make hormones to produce red blood cells, and they turn vitamin D into its active form, so it's usable in the body.\", 'There are quite a few things that can cause or put you at higher risk for chronic kidney disease.', 'Some of them are not things that can be avoided.', 'Your risk is simply higher if you have a family history of certain genetic conditions like polycystic kidney disease or some autoimmune diseases like lupus or IgA nephropathy.', 'Defects in the kidney structure can also cause your kidneys to fail, and you have an increased risk as you get older.', 'Sometimes, other common medical conditions can increase your risk.', 'Diabetes is the most common cause of kidney disease.', 'Both type 1 and type 2 diabetes.', 'But also heart disease and obesity can contribute to the damage that causes kidneys to fail.', 'Urinary tract issues and inflammation in different parts of the kidney can also lead to long-term functional decline.', 'There are things that are more under our control: Heavy or long-term use of certain medications, even those that are common over-the-counter.', 'Smoking can also be a contributing factor to chronic kidney disease.', 'Often there are no outward signs in the earlier stages of chronic kidney disease, which is grouped into stages 1 through 5.', 'Generally, earlier stages are known as 1 to 3.', 'And as kidney disease progresses, you may notice the following symptoms.', 'Nausea and vomiting, muscle cramps, loss of appetite, swelling via feet and ankles, dry, itchy skin, shortness of breath, trouble sleeping, urinating either too much or too little.', 'However, these are usually in the later stages, but they can also happen in other disorders.', \"So don't automatically interpret this as having kidney disease.\", \"But if you're experiencing anything that concerns you, you should make an appointment with your doctor.\", 'Even before any symptoms appear, routine blood work can indicate that you might be in the early stages of chronic kidney disease.', \"And the earlier it's detected, the easier it is to treat.\", 'This is why regular checkups with your doctor are important.', 'If your doctor suspects the onset of chronic kidney disease, they may schedule a variety of other tests.', 'They may also refer you to a kidney specialist, a nephrologist like myself.', 'Urine tests can reveal abnormalities and give clues to the underlying cause of the chronic kidney disease.', 'And this can also help to determine the underlying issues.', 'Various imaging tests like ultrasounds or CT scans can be done to help your doctor assess the size, the structure, as well as evaluate the visible damage, inflammation or stones of your kidneys.', 'And in some cases, a kidney biopsy may be necessary.', 'And a small amount of tissue is taken with a needle and sent to the pathologist for further analysis.', 'Treatment is determined by what is causing your kidneys to not function normally.', 'Treating the cause is key, leading to reduced complications and slowing progression of kidney disease.', 'For example, getting better blood pressure control, improved sugar control and diabetes, and reducing weight are often key interventions.', 'However, existing damage is not usually reversible.', 'In some conditions, treatment can reverse the cause of the disease.', 'So seeking medical review is really important.', 'Individual complications vary, but treatment might include high blood pressure medication, diuretics to reduce fluid and swelling, supplements to relieve anemia, statins to lower cholesterol, or medications to protect your bones and prevent blood vessel calcification.', 'A lower-protein diet may also be recommended.', 'It reduces the amount of waste your kidneys need to filter from your blood.', 'These can not only slow the damage of kidney disease, but make you feel better as well.', \"When the damage has progressed to the point that 85 to 90 percent of your kidney function is gone, and they no longer work well enough to keep you alive, it's called end-stage kidney failure.\", 'But there are still options.', \"There's dialysis, which uses a machine to filter the toxins and remove water from your body as your kidneys are no longer able to do this.\", 'Where possible, the preferred therapy is a kidney transplant.', \"While an organ transplant can sound daunting, it's actually often the better alternative, and the closest thing to a cure, if you qualify for a kidney transplant.\", 'If you have kidney disease, there are lifestyle choices.', 'Namely quit smoking.', 'Consuming alcohol in moderation.', \"If you're overweight or obese, then try to lose weight.\", 'Staying active and getting exercise can help not only with your weight, but fatigue and stress.', \"If your condition allows, keep up with your routine, whether that's working, hobbies, social activities, or other things you enjoy.\", \"It can be helpful to talk to someone you trust, a friend or relative who's good at listening.\", 'Or your doctor could also refer you to a therapist or social worker.', 'It can also be helpful to find a support group and connect with people going through the same thing.', 'Learning you have chronic kidney disease and learning how to live with it can be a challenge.', 'But there are lots of ways to help you to be more comfortable for longer before more drastic measures are needed.', 'And even then, there is plenty of hope.', \"If you'd like to learn even more about chronic kidney disease, watch our other related videos or visit mayoclinic.org.\", 'We wish you well.']\n"
          ]
        }
      ],
      "source": [
        "# Tokenization\n",
        "text = corpus\n",
        "sentence_list = nltk.sent_tokenize(text) #A list of senetences\n",
        "\n",
        "# Print the list of sentences\n",
        "print(sentence_list)\n"
      ]
    },
    {
      "cell_type": "markdown",
      "metadata": {
        "id": "A0kZDPHxCRGm"
      },
      "source": [
        "# Proses 3 (Bot Response)\n",
        "\n",
        "Bot respon digunakan untuk membuat sebuah percakapan awal antara pengguna dengan bot, jadi disini user dapat menyapa bot, nah untuk kata-kata dapat diganti sesuai dengan kebutuhan, misalnya bahasa indonesia. \n",
        "\n",
        "Pada percakapan awal tidak menggunakan ML atau metode lainnya, program hanya menjawab dengan kata yang di cocokkan sebagai input."
      ]
    },
    {
      "cell_type": "code",
      "execution_count": 8,
      "metadata": {
        "id": "qII0gu1dCRGm"
      },
      "outputs": [],
      "source": [
        "#a function to return a random greeting response to a users greeting\n",
        "def greeting_response(text):\n",
        "    text = text.lower()\n",
        "    \n",
        "    #Bots greeting respone\n",
        "    bot_greetings = ['howdy','hi','hello','hola']\n",
        "    \n",
        "    #Users greeting\n",
        "    user_greetings = ['hi','hey','hello','greetings','wassup']\n",
        "    \n",
        "    for word in text.split():\n",
        "        if word in user_greetings:\n",
        "            return random.choice(bot_greetings)\n",
        "        \n",
        "    #Random response to greeting\n",
        "    def gratitude_response(text):\n",
        "        text=text.lower()\n",
        "   \n"
      ]
    },
    {
      "cell_type": "markdown",
      "metadata": {
        "id": "AZEgMQCr_HtI"
      },
      "source": [
        "1. Pada list kode bot_greetings itu bentuk kata sapaan bot terhadap sapaan yang kita berikan, dan dapat diganti dengan bahasa Indonesia atau lainnya.\n",
        "2. Sedangkan, pada list user_greetings itu kata sapaan input dari user dan dapat diganti dengan bahasa lainnya."
      ]
    },
    {
      "cell_type": "markdown",
      "metadata": {
        "id": "oTHbuHoO_SXL"
      },
      "source": [
        "# Sorting List"
      ]
    },
    {
      "cell_type": "code",
      "execution_count": 9,
      "metadata": {
        "id": "ZQnYG5nQCRGn"
      },
      "outputs": [],
      "source": [
        " def index_sort(list_var):\n",
        "    length = len(list_var)\n",
        "    list_index = list(range(0, length))\n",
        "    \n",
        "    x = list_var        \n",
        "    for i in range(length):\n",
        "        for j in range(length):\n",
        "            if x[list_index[i]] > x[list_index[j]]:\n",
        "                #swap\n",
        "                temp = list_index[i]\n",
        "                list_index[i] = list_index[j]\n",
        "                list_index[j] = temp\n",
        "                \n",
        "    return list_index"
      ]
    },
    {
      "cell_type": "markdown",
      "metadata": {
        "id": "tIuiijdc_YZ2"
      },
      "source": [
        "# Chatbot Respon Menggunakan Cosine Similarity\n",
        "\n",
        "Pada respon bot menggunakan teknis Cosine Similarity untuk menghitung kata yang cocok dengan yang di input user terhadap respon dari Bot"
      ]
    },
    {
      "cell_type": "code",
      "execution_count": 10,
      "metadata": {
        "id": "VrBJ58bvCRGn"
      },
      "outputs": [],
      "source": [
        "# Creat Bots Response\n",
        "def bot_response(user_input):\n",
        "    user_input=user_input.lower()\n",
        "    sentence_list.append(user_input)\n",
        "    bot_response= ''\n",
        "    cm=CountVectorizer().fit_transform(sentence_list)\n",
        "    similarity_scores=cosine_similarity(cm[-1],cm)\n",
        "    similarity_scores_list=similarity_scores.flatten()\n",
        "    index=index_sort(similarity_scores_list)\n",
        "    index=index[1:]\n",
        "    response_flag=0\n",
        "    \n",
        "    j=0\n",
        "    for i in range(len(index)):\n",
        "        if similarity_scores_list[index[i]]>0.0:\n",
        "            bot_response=bot_response+' '+sentence_list[index[i]]\n",
        "            response_flag=1\n",
        "            j=j+1\n",
        "        if j>2:\n",
        "            break\n",
        "\n",
        "        if response_flag==0:\n",
        "            bot_response=bot_response+\" \"+\"I apologize, I dont understand\"\n",
        "\n",
        "        sentence_list.remove(user_input) \n",
        "\n",
        "        return bot_response"
      ]
    },
    {
      "cell_type": "markdown",
      "metadata": {
        "id": "2fvjGhBU_nyk"
      },
      "source": [
        "Pada listing kode >bot_response=bot_response+\" \"+\"I apologize, I dont understand\" pada list kode ini kata I apologize tujuannya untuk memberikan respon karena sistem tidak mengenali kata yang kita input, jadi sebagai bentuk respon bot kepada user. Kata tersebut bisa diganti dengan bahasa Indonesia, misalnya \"Maaf saya tidak mengetahui arti atau tidak mengenali kata-kata yang di input\"."
      ]
    },
    {
      "cell_type": "markdown",
      "metadata": {
        "id": "8-C33RGuCRGo"
      },
      "source": [
        "# Proses 4 (End Process, Making chat box)"
      ]
    },
    {
      "cell_type": "code",
      "execution_count": null,
      "metadata": {
        "id": "7GTB7h9TCRGo"
      },
      "outputs": [],
      "source": [
        "#Start Chat\n",
        "print(\"Doc Bot: I am DOc bot and I will answer your queries about chronic kidney disease, if you want to exit type, bye  ?\")\n",
        "\n",
        "exit_list=['exit','bye','see you later','quit']\n",
        "\n",
        "while(True):\n",
        "    user_input=input()\n",
        "    stt\n",
        "    if user_input.lower() in exit_list:\n",
        "        print('Doc Bot: Bye Bye See you later')\n",
        "        break\n",
        "    else:\n",
        "        if greeting_response(user_input)!= None:\n",
        "            print('Doc Bot: '+ greeting_response(user_input))\n",
        "        else:\n",
        "            print('Doc Bot: '+ bot_response(user_input))\n",
        "            tts = gTTS(bot_response(user_input), lang='en')\n",
        "            tts.save('mantap.wav')\n",
        "            time.sleep(0.08)\n",
        "            print(\"Kamu:\\n\")\n",
        "            ipd.display(ipd.Audio('mantap.wav', autoplay=True))\n",
        "            \n",
        "            print(\"=\"*60 + \"\\n\")"
      ]
    },
    {
      "cell_type": "markdown",
      "metadata": {
        "id": "WavLomgtHxRI"
      },
      "source": [
        "Doc Bot ganti dengan ini atau sesuai dengan topik yang lagi di bahas, print(\"Doc Bot: Mau nanya apa kamu tentang kabel laut?\")"
      ]
    },
    {
      "cell_type": "code",
      "execution_count": null,
      "metadata": {
        "id": "WWdOizj-CRGp"
      },
      "outputs": [],
      "source": [
        "#buat pertanyaan pada kolom diatas seperti : what is chronic kidney disease?, dll."
      ]
    },
    {
      "cell_type": "markdown",
      "metadata": {
        "id": "zJ5gxzVCgftf"
      },
      "source": [
        "---\n",
        "# AI Chatbot Versi Bahasa **Indonesia**\n",
        "# Proses 1 (Making Corpus with Download an Article)"
      ]
    },
    {
      "cell_type": "code",
      "execution_count": 15,
      "metadata": {
        "id": "FYT3-ERtgjjS",
        "colab": {
          "base_uri": "https://localhost:8080/"
        },
        "outputId": "a5d4f5b6-84db-4b77-f6d9-72f7eeb8dd69"
      },
      "outputs": [
        {
          "output_type": "stream",
          "name": "stdout",
          "text": [
            "Telkomsel, Indihome, dan Kabel Laut JaSuKa\n",
            "\n",
            "Pada hari Minggu lalu (19 September 2021), terjadi gangguan jaringan internet pada Telkomsel dan Indihome. Gangguan tersebut menyebabkan penurunan kualitas layanan TelkomGroup baik fixed maupun mobile broadband di beberapa wilayah Indonesia. Di masa pandemi yang menuntut orang untuk berada di rumah seperti ini, gangguan internet tentu menjadi masalah besar. Berbagai kegiatan penting seperti Seleksi Kompetensi Dasar (SKD) CPNS mengalami penundaan. Netizen pun banyak berkomentar negatif terkait hal ini. Saat artikel ini dirilis, gangguan tersebut mungkin belum benar-benar terselesaikan.\n",
            "\n",
            "Gangguan tersebut disebabkan oleh masalah pada sistem komunikasi kabel laut JaSuKa (Jawa, Sumatera dan Kalimantan) ruas Batam-Pontianak. Telkom memperkirakan proses perbaikan kabel laut yang terganggu akan berlangsung sekitar sebulan. Meski begitu, Telkom mencoba berbagai alternatif agar jaringan internet tetap dapat berjalan sebaik mungkin, meski tentu tidak sebaik ketika kondisi normal.\n",
            "\n",
            "Bagaimana pun juga, gangguan ini membuat banyak orang bertanya-tanya, “Apa hubungannya kabel di laut dengan internet?”, “Kenapa jaringan internet itu malah lewat kabel laut?”, “Kenapa nggak pakai satelit aja?”, “Kenapa jaringannya tidak segera membaik?”, dan lainnya. Artikel singkat ini akan mencoba membahas sedikit terkait hal itu.\n",
            "\n",
            "Ya, Internet itu ada di Bawah Laut\n",
            "\n",
            "Internet sering diasosiasikan dengan kata cloud atau wireless sehingga kita merasa bahwa internet itu dibawa oleh udara di sekitar kita. Ketika kita mendengar kata “jaringan internet”, yang terbayang mungkin gelombang antara menara pemancar di Bumi dengan satelit di angkasa. Itu tidak sepenuhnya salah. Internet memang ada di sekitar kita dan satelit memegang peran penting untuk itu. Namun, persepsi itu membuat kita melupakan bagian lain dari internet. Bagian terpenting yang sangat vital namun tidak akan pernah kita lihat, yaitu kabel laut. Sebelumnya, perlu kita ketahui bersama bahwa:\n",
            "\n",
            "99% Komunikasi Data Internasional itu Melalui Kabel Laut\n",
            "\n",
            "Itu adalah kalimat yang sudah banyak disampaikan di berbagai media massa, namun sepertinya masih belum banyak diketahui masyarakat umum. Lebih detailnya lagi, hanya sekitar 300 kabel bawah laut yang bertanggung jawab terhadap 99% lalu lintas komunikasi data internasional.\n",
            "\n",
            "Jaringan Kabel Laut di Dunia – www.submarinecablemap.com\n",
            "\n",
            "Gambar di atas merupakan jaringan kabel laut di dunia yang dapat diakses di www.submarinecablemap.com. Di sana, kita tidak hanya bisa melihat jaringan kabel secara keseluruhan, namun juga melihat lebih detail terkait salah satu kabel yang ada. Dari gambar di atas, jaringannya memang terlihat sangat banyak dan sangat rumit. Namun, kita perlu ingat bahwa komunikasi yang senantiasa terjadi di internet itu juga sangat banyak dan sangat rumit, jauh lebih banyak dan lebih rumit dari yang bisa kita bayangkan.\n",
            "\n",
            "Ketika kita mengirim satu chat ke teman di samping kita misalnya. Bisa jadi chat kita akan menempuh perjalanan yang amat sangat jauh. Mulai dari puluhan kilometer jalur darat secara wireless, kemudian melalui ribuan kilometer kabel laut, menuju ke data center di China atau Amerika, lalu kembali lagi ke Indonesia melalui kabel laut, dan sampai ke teman di samping kita secara wireless. Itu salah satu skenario yang mungkin terjadi, bisa saja jauh lebih pendek atau jauh lebih panjang. Sebagai mahasiswa Teknik Elektro yang pernah sedikit mendalami internet, yang bisa penulis katakan terkait internet adalah “It’s never been simple”\n",
            "\n",
            "Mengenal Kabel Laut\n",
            "\n",
            "Ketika mendengar bahwa 99% internet itu melewati kabel laut, apa bayangan kita terkait bentuk fisik dari kabel laut itu? Ukurannya mungkin memang sangat bervariasi, namun gambar berikut bisa memberikan gambaran bahwa ukuran kabelnya bisa jadi hanya sekecil ini\n",
            "\n",
            "Isi dari Kabel Laut – 99percentinvisible.org\n",
            "\n",
            "Hampir seluruh luasannya digunakan sebagai pelindung. Bagian yang mengalirkan informasi adalah fiber optik yang ukurannya tidak berbeda jauh dari sehelai rambut kita. Meski sangat kecil, dia mampu membawa informasi dengan sangat cepat, mendekati kecepatan cahaya. Itu karena informasi dibawa bukan sebagai sinyal listrik seperti kabel di rumah, namun sebagai sinyal cahaya. Kapasitasnya juga sangat besar, satu helai saja bisa memiliki kapasitas 100 gigabit per sekon. [Baca: Dasar Komunikasi Fiber Optik dan FTTH (Fiber To The Home)]\n",
            "\n",
            "Dengan itu semua, kabel laut jauh lebih cepat daripada satelit. Itu karena satelit yang biasanya digunakan untuk internet berada puluhan ribu kilometer di atas kita. Sementara itu, jalur melalui laut tidak akan lebih dari belasan ribu kilometer saja. Kapasitas transfer data dari satelit juga jauh lebih sulit untuk ditingkatkan dibanding kabel laut. Maka, meski keduanya memanfaatkan kecepatan cahaya, secara umum kabel laut tetap jauh lebih cepat daripada satelit. (Baca: SpaceX Luncurkan 60 Satelit Penyedia Internet Starlink)\n",
            "\n",
            "Namun, kabel laut juga memiliki banyak masalah. Banyak pihak yang menyebutkan bahwa kabel laut yang menjadi tulang punggung internet kita ini sebenarnya sangatlah rentan. Kabel laut dapat mengalami masalah akibat faktor alam, namun ini hanya mencakup 14 persen saja. Association of Sea Cable Communication Systems menyebutkan bahwa sebanyak 47% gangguan kabel laut disebabkan oleh jangkar kapal. Sementara itu, 28% disebabkan oleh sektor perikanan yang menggunakan FAD (fish aggregating devices). Di Indonesia pun, jangkar juga menjadi penyebab gangguan kabel terbesar. Hal itu mengingat lautan Indonesia juga sering dilewati banyak kapal.\n",
            "\n",
            "Jaringan Kabel Laut di Indonesia\n",
            "\n",
            "Kabel laut yang ada di negeri kita juga cukup banyak. Hal itu dapat dilihat pada Gambar berikut yang juga didapatkan dari www.submarinecablemap.com. Pada Gambar ini, jaringan kabel JaSuKa yang dimiliki Telkom Indonesia terlihat berwarna biru tua dan menghubungkan berbagai titik di Jawa, Sumatera, dan Kalimantan. JaSuKa memiliki total panjang hampir 11 ribu kilometer dan disebut menjadi salah satu yang terpanjang di dunia.\n",
            "\n",
            "Jaringan Kabel Laut di Indonesia – www.submarinecablemap.com\n",
            "\n",
            "Kabel laut memang jauh lebih murah daripada satelit, namun tetap saja tidak mudah dan tidak sederhana. Baik perencanaan maupun pengelolaannya memerlukan banyak pengorbanan. Ini wajar saja mengingat dunia bawah laut sangatlah kompleks dan penuh dengan berbagai hal yang tak terduga. Perlu diketahui pula bahwa setiap beberapa puluh kilometer, perlu terdapat repeater untuk menguatkan kembali sinyal cahaya yang telah melemah. Melihat kompleksitas itu, wajar saja jika perbaikan gangguan tidak bisa selesai dalam satu malam.\n",
            "\n",
            "Meski demikian, sistem yang besar umumnya memiliki berbagai alternatif jika sistem utamanya gagal. Hal ini juga kita dengar dari pihak Telkom, bahwa jalur backup dan alternatif telah diaktifkan untuk destinasi utama tertentu. Berbagai hal teknis yang tidak akan dipahami masyarakat umum pasti juga telah dilakukan.\n",
            "\n",
            "Bagaimana pun juga, gangguan ini menunjukan pada kita semua bahwa sistem internet di Indonesia sebenarnya masih belum kuat dan sangat rentan, apalagi jika kita meninjau Indonesia Timur. Di satu sisi, masyarakat umum perlu menyadari bahwa sistem internet secara fisiknya memang sangat kompleks dan sangat rentan terhadap berbagai gangguan serta tidak bisa diperbaiki dengan mudah. Di sisi lain, berbagai pihak yang berpartisipasi langsung di dalamnya perlu terus melakukan evaluasi dan pengembangan agar sistem internet di negeri kita dapat menjadi lebih handal. (Baca: Analisis terhadap Kualitas Jaringan Internet Indonesia yang Memburuk)\n",
            "\n",
            "Referensi\n"
          ]
        }
      ],
      "source": [
        "article = Article('https://warstek.com/kabel-laut/')\n",
        "article.download()\n",
        "article.parse()\n",
        "article.nlp()\n",
        "corpus = article.text\n",
        "print(corpus)"
      ]
    },
    {
      "cell_type": "markdown",
      "metadata": {
        "id": "6KQ3Or6fiKxv"
      },
      "source": [
        "# Proses 2 (Tokenization)"
      ]
    },
    {
      "cell_type": "code",
      "execution_count": 16,
      "metadata": {
        "id": "qsID-u6Gg012",
        "colab": {
          "base_uri": "https://localhost:8080/"
        },
        "outputId": "7e3d0ff4-9e64-4890-f6d8-3c9ef60235d2"
      },
      "outputs": [
        {
          "output_type": "stream",
          "name": "stdout",
          "text": [
            "['Telkomsel, Indihome, dan Kabel Laut JaSuKa\\n\\nPada hari Minggu lalu (19 September 2021), terjadi gangguan jaringan internet pada Telkomsel dan Indihome.', 'Gangguan tersebut menyebabkan penurunan kualitas layanan TelkomGroup baik fixed maupun mobile broadband di beberapa wilayah Indonesia.', 'Di masa pandemi yang menuntut orang untuk berada di rumah seperti ini, gangguan internet tentu menjadi masalah besar.', 'Berbagai kegiatan penting seperti Seleksi Kompetensi Dasar (SKD) CPNS mengalami penundaan.', 'Netizen pun banyak berkomentar negatif terkait hal ini.', 'Saat artikel ini dirilis, gangguan tersebut mungkin belum benar-benar terselesaikan.', 'Gangguan tersebut disebabkan oleh masalah pada sistem komunikasi kabel laut JaSuKa (Jawa, Sumatera dan Kalimantan) ruas Batam-Pontianak.', 'Telkom memperkirakan proses perbaikan kabel laut yang terganggu akan berlangsung sekitar sebulan.', 'Meski begitu, Telkom mencoba berbagai alternatif agar jaringan internet tetap dapat berjalan sebaik mungkin, meski tentu tidak sebaik ketika kondisi normal.', 'Bagaimana pun juga, gangguan ini membuat banyak orang bertanya-tanya, “Apa hubungannya kabel di laut dengan internet?”, “Kenapa jaringan internet itu malah lewat kabel laut?”, “Kenapa nggak pakai satelit aja?”, “Kenapa jaringannya tidak segera membaik?”, dan lainnya.', 'Artikel singkat ini akan mencoba membahas sedikit terkait hal itu.', 'Ya, Internet itu ada di Bawah Laut\\n\\nInternet sering diasosiasikan dengan kata cloud atau wireless sehingga kita merasa bahwa internet itu dibawa oleh udara di sekitar kita.', 'Ketika kita mendengar kata “jaringan internet”, yang terbayang mungkin gelombang antara menara pemancar di Bumi dengan satelit di angkasa.', 'Itu tidak sepenuhnya salah.', 'Internet memang ada di sekitar kita dan satelit memegang peran penting untuk itu.', 'Namun, persepsi itu membuat kita melupakan bagian lain dari internet.', 'Bagian terpenting yang sangat vital namun tidak akan pernah kita lihat, yaitu kabel laut.', 'Sebelumnya, perlu kita ketahui bersama bahwa:\\n\\n99% Komunikasi Data Internasional itu Melalui Kabel Laut\\n\\nItu adalah kalimat yang sudah banyak disampaikan di berbagai media massa, namun sepertinya masih belum banyak diketahui masyarakat umum.', 'Lebih detailnya lagi, hanya sekitar 300 kabel bawah laut yang bertanggung jawab terhadap 99% lalu lintas komunikasi data internasional.', 'Jaringan Kabel Laut di Dunia – www.submarinecablemap.com\\n\\nGambar di atas merupakan jaringan kabel laut di dunia yang dapat diakses di www.submarinecablemap.com.', 'Di sana, kita tidak hanya bisa melihat jaringan kabel secara keseluruhan, namun juga melihat lebih detail terkait salah satu kabel yang ada.', 'Dari gambar di atas, jaringannya memang terlihat sangat banyak dan sangat rumit.', 'Namun, kita perlu ingat bahwa komunikasi yang senantiasa terjadi di internet itu juga sangat banyak dan sangat rumit, jauh lebih banyak dan lebih rumit dari yang bisa kita bayangkan.', 'Ketika kita mengirim satu chat ke teman di samping kita misalnya.', 'Bisa jadi chat kita akan menempuh perjalanan yang amat sangat jauh.', 'Mulai dari puluhan kilometer jalur darat secara wireless, kemudian melalui ribuan kilometer kabel laut, menuju ke data center di China atau Amerika, lalu kembali lagi ke Indonesia melalui kabel laut, dan sampai ke teman di samping kita secara wireless.', 'Itu salah satu skenario yang mungkin terjadi, bisa saja jauh lebih pendek atau jauh lebih panjang.', 'Sebagai mahasiswa Teknik Elektro yang pernah sedikit mendalami internet, yang bisa penulis katakan terkait internet adalah “It’s never been simple”\\n\\nMengenal Kabel Laut\\n\\nKetika mendengar bahwa 99% internet itu melewati kabel laut, apa bayangan kita terkait bentuk fisik dari kabel laut itu?', 'Ukurannya mungkin memang sangat bervariasi, namun gambar berikut bisa memberikan gambaran bahwa ukuran kabelnya bisa jadi hanya sekecil ini\\n\\nIsi dari Kabel Laut – 99percentinvisible.org\\n\\nHampir seluruh luasannya digunakan sebagai pelindung.', 'Bagian yang mengalirkan informasi adalah fiber optik yang ukurannya tidak berbeda jauh dari sehelai rambut kita.', 'Meski sangat kecil, dia mampu membawa informasi dengan sangat cepat, mendekati kecepatan cahaya.', 'Itu karena informasi dibawa bukan sebagai sinyal listrik seperti kabel di rumah, namun sebagai sinyal cahaya.', 'Kapasitasnya juga sangat besar, satu helai saja bisa memiliki kapasitas 100 gigabit per sekon.', '[Baca: Dasar Komunikasi Fiber Optik dan FTTH (Fiber To The Home)]\\n\\nDengan itu semua, kabel laut jauh lebih cepat daripada satelit.', 'Itu karena satelit yang biasanya digunakan untuk internet berada puluhan ribu kilometer di atas kita.', 'Sementara itu, jalur melalui laut tidak akan lebih dari belasan ribu kilometer saja.', 'Kapasitas transfer data dari satelit juga jauh lebih sulit untuk ditingkatkan dibanding kabel laut.', 'Maka, meski keduanya memanfaatkan kecepatan cahaya, secara umum kabel laut tetap jauh lebih cepat daripada satelit.', '(Baca: SpaceX Luncurkan 60 Satelit Penyedia Internet Starlink)\\n\\nNamun, kabel laut juga memiliki banyak masalah.', 'Banyak pihak yang menyebutkan bahwa kabel laut yang menjadi tulang punggung internet kita ini sebenarnya sangatlah rentan.', 'Kabel laut dapat mengalami masalah akibat faktor alam, namun ini hanya mencakup 14 persen saja.', 'Association of Sea Cable Communication Systems menyebutkan bahwa sebanyak 47% gangguan kabel laut disebabkan oleh jangkar kapal.', 'Sementara itu, 28% disebabkan oleh sektor perikanan yang menggunakan FAD (fish aggregating devices).', 'Di Indonesia pun, jangkar juga menjadi penyebab gangguan kabel terbesar.', 'Hal itu mengingat lautan Indonesia juga sering dilewati banyak kapal.', 'Jaringan Kabel Laut di Indonesia\\n\\nKabel laut yang ada di negeri kita juga cukup banyak.', 'Hal itu dapat dilihat pada Gambar berikut yang juga didapatkan dari www.submarinecablemap.com.', 'Pada Gambar ini, jaringan kabel JaSuKa yang dimiliki Telkom Indonesia terlihat berwarna biru tua dan menghubungkan berbagai titik di Jawa, Sumatera, dan Kalimantan.', 'JaSuKa memiliki total panjang hampir 11 ribu kilometer dan disebut menjadi salah satu yang terpanjang di dunia.', 'Jaringan Kabel Laut di Indonesia – www.submarinecablemap.com\\n\\nKabel laut memang jauh lebih murah daripada satelit, namun tetap saja tidak mudah dan tidak sederhana.', 'Baik perencanaan maupun pengelolaannya memerlukan banyak pengorbanan.', 'Ini wajar saja mengingat dunia bawah laut sangatlah kompleks dan penuh dengan berbagai hal yang tak terduga.', 'Perlu diketahui pula bahwa setiap beberapa puluh kilometer, perlu terdapat repeater untuk menguatkan kembali sinyal cahaya yang telah melemah.', 'Melihat kompleksitas itu, wajar saja jika perbaikan gangguan tidak bisa selesai dalam satu malam.', 'Meski demikian, sistem yang besar umumnya memiliki berbagai alternatif jika sistem utamanya gagal.', 'Hal ini juga kita dengar dari pihak Telkom, bahwa jalur backup dan alternatif telah diaktifkan untuk destinasi utama tertentu.', 'Berbagai hal teknis yang tidak akan dipahami masyarakat umum pasti juga telah dilakukan.', 'Bagaimana pun juga, gangguan ini menunjukan pada kita semua bahwa sistem internet di Indonesia sebenarnya masih belum kuat dan sangat rentan, apalagi jika kita meninjau Indonesia Timur.', 'Di satu sisi, masyarakat umum perlu menyadari bahwa sistem internet secara fisiknya memang sangat kompleks dan sangat rentan terhadap berbagai gangguan serta tidak bisa diperbaiki dengan mudah.', 'Di sisi lain, berbagai pihak yang berpartisipasi langsung di dalamnya perlu terus melakukan evaluasi dan pengembangan agar sistem internet di negeri kita dapat menjadi lebih handal.', '(Baca: Analisis terhadap Kualitas Jaringan Internet Indonesia yang Memburuk)\\n\\nReferensi']\n"
          ]
        }
      ],
      "source": [
        "# Tokenization\n",
        "text = corpus\n",
        "sentence_list = nltk.sent_tokenize(text) #A list of senetences\n",
        "\n",
        "# Print the list of sentences\n",
        "print(sentence_list)"
      ]
    },
    {
      "cell_type": "code",
      "execution_count": null,
      "metadata": {
        "id": "iq-tYfnBiS06"
      },
      "outputs": [],
      "source": [
        ""
      ]
    },
    {
      "cell_type": "code",
      "execution_count": 17,
      "metadata": {
        "id": "lYvkaKOHiia2"
      },
      "outputs": [],
      "source": [
        "#a function to return a random greeting response to a users greeting\n",
        "def greeting_response(text):\n",
        "    text = text.lower()\n",
        "    \n",
        "    #Bots greeting respone\n",
        "    bot_greetings = ['halo','hai','yuhuu','*eyebrows up*']\n",
        "    \n",
        "    #Users greeting\n",
        "    user_greetings = ['Haloo','Eh iyaa Haii','Hai','greetings','wassup']\n",
        "    \n",
        "    for word in text.split():\n",
        "        if word in user_greetings:\n",
        "            return random.choice(bot_greetings)\n",
        "        \n",
        "    #Random response to greeting\n",
        "    #def gratitude_response(text):\n",
        "        #text=text.lower()\n",
        "   \n"
      ]
    },
    {
      "cell_type": "code",
      "execution_count": 18,
      "metadata": {
        "id": "TZU6BZB3iia7"
      },
      "outputs": [],
      "source": [
        " def index_sort(list_var):\n",
        "    length = len(list_var)\n",
        "    list_index = list(range(0, length))\n",
        "    \n",
        "    x = list_var        \n",
        "    for i in range(length):\n",
        "        for j in range(length):\n",
        "            if x[list_index[i]] > x[list_index[j]]:\n",
        "                #swap\n",
        "                temp = list_index[i]\n",
        "                list_index[i] = list_index[j]\n",
        "                list_index[j] = temp\n",
        "                \n",
        "    return list_index"
      ]
    },
    {
      "cell_type": "code",
      "execution_count": 19,
      "metadata": {
        "id": "jgD-wmTwiia7"
      },
      "outputs": [],
      "source": [
        "# Creat Bots Response\n",
        "def bot_response(user_input):\n",
        "    user_input=user_input.lower()\n",
        "    sentence_list.append(user_input)\n",
        "    bot_response= ''\n",
        "    cm=CountVectorizer().fit_transform(sentence_list)\n",
        "    similarity_scores=cosine_similarity(cm[-1],cm)\n",
        "    similarity_scores_list=similarity_scores.flatten()\n",
        "    index=index_sort(similarity_scores_list)\n",
        "    index=index[1:]\n",
        "    response_flag=0\n",
        "    \n",
        "    j=0\n",
        "    for i in range(len(index)):\n",
        "        if similarity_scores_list[index[i]]>0.0:\n",
        "            bot_response=bot_response+' '+sentence_list[index[i]]\n",
        "            response_flag=1\n",
        "            j=j+1\n",
        "        if j>2:\n",
        "            break\n",
        "\n",
        "        if response_flag==0:\n",
        "            bot_response=bot_response+\" \"+\"I apologize, I dont understand\"\n",
        "\n",
        "        sentence_list.remove(user_input) \n",
        "\n",
        "        return bot_response"
      ]
    },
    {
      "cell_type": "markdown",
      "metadata": {
        "id": "PVF_g7Xyiia8"
      },
      "source": [
        "# Proses 4 (End Process, Making chat box)"
      ]
    },
    {
      "cell_type": "code",
      "source": [
        "#Start Chat\n",
        "print(\"Doc Bot: Mau nanya apa kamu tentang kabel laut\")\n",
        "\n",
        "exit_list=['exit','bye','keluar','quit', 'sampai jumpa']\n",
        "\n",
        "while(True):\n",
        "    user_input=input()\n",
        "    if user_input.lower() in exit_list:\n",
        "        print('Doc Bot: Bye Bye Sampai jumpa lagi')\n",
        "        break\n",
        "    else:\n",
        "        if greeting_response(user_input)!= None:\n",
        "            print('Doc Bot: '+ greeting_response(user_input))\n",
        "            \n",
        "        else:\n",
        "            print('Doc Bot: '+ bot_response(user_input))\n",
        "            tts = gTTS(bot_response(user_input), lang='id')\n",
        "            tts.save('mantap.wav')\n",
        "            time.sleep(0.08)\n",
        "            print(\"Kamu:\\n\")\n",
        "            ipd.display(ipd.Audio('mantap.wav', autoplay=True))\n",
        "            \n",
        "            print(\"=\"*60 + \"\\n\")"
      ],
      "metadata": {
        "id": "iFltWXIrs4uj",
        "outputId": "14defe39-09d2-4067-9c98-7ad7b499d7c7",
        "colab": {
          "base_uri": "https://localhost:8080/",
          "height": 232
        }
      },
      "execution_count": null,
      "outputs": [
        {
          "output_type": "stream",
          "name": "stdout",
          "text": [
            "Doc Bot: Mau nanya apa kamu tentang kabel laut\n",
            "dimana letak kabel laut?\n",
            "Doc Bot:  Jaringan Kabel Laut di Indonesia\n",
            "\n",
            "Kabel laut yang ada di negeri kita juga cukup banyak.\n",
            "Kamu:\n",
            "\n"
          ]
        },
        {
          "output_type": "display_data",
          "data": {
            "text/plain": [
              "<IPython.lib.display.Audio object>"
            ],
            "text/html": [
              "\n",
              "                <audio controls=\"controls\" autoplay=\"autoplay\">\n",
              "                    <source src=\"data:audio/x-wav;base64,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\" type=\"audio/x-wav\" />\n",
              "                    Your browser does not support the audio element.\n",
              "                </audio>\n",
              "              "
            ]
          },
          "metadata": {}
        },
        {
          "output_type": "stream",
          "name": "stdout",
          "text": [
            "============================================================\n",
            "\n"
          ]
        }
      ]
    },
    {
      "cell_type": "code",
      "execution_count": null,
      "metadata": {
        "id": "H8psLH5Ji4ng"
      },
      "outputs": [],
      "source": [
        "#Coba berikan input kalimat berikut\n",
        "\n",
        "# kabel laut adalah\n",
        "# kabel laut untuk komunikasi internasional adalah"
      ]
    }
  ],
  "metadata": {
    "accelerator": "GPU",
    "colab": {
      "collapsed_sections": [],
      "name": "SuryaSaida JM-4&5_ChatbotAI_Text to Speech.ipynb",
      "provenance": [],
      "include_colab_link": true
    },
    "kernelspec": {
      "display_name": "Python 3",
      "language": "python",
      "name": "python3"
    },
    "language_info": {
      "codemirror_mode": {
        "name": "ipython",
        "version": 3
      },
      "file_extension": ".py",
      "mimetype": "text/x-python",
      "name": "python",
      "nbconvert_exporter": "python",
      "pygments_lexer": "ipython3",
      "version": "3.8.8"
    }
  },
  "nbformat": 4,
  "nbformat_minor": 0
}