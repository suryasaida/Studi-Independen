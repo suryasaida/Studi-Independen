{
  "nbformat": 4,
  "nbformat_minor": 0,
  "metadata": {
    "colab": {
      "name": "SuryaSaida SL - Regresi_Student.ipynb",
      "provenance": [],
      "collapsed_sections": [],
      "include_colab_link": true
    },
    "kernelspec": {
      "name": "python3",
      "display_name": "Python 3"
    }
  },
  "cells": [
    {
      "cell_type": "markdown",
      "metadata": {
        "id": "view-in-github",
        "colab_type": "text"
      },
      "source": [
        "<a href=\"https://colab.research.google.com/github/suryasaida/Studi-Independen/blob/main/SuryaSaida_SL_Regresi_Student.ipynb\" target=\"_parent\"><img src=\"https://colab.research.google.com/assets/colab-badge.svg\" alt=\"Open In Colab\"/></a>"
      ]
    },
    {
      "cell_type": "markdown",
      "source": [
        "Sebelum mulai silahkan:\n",
        "*   Buat yang pake Colab --> Save a copy in drive dulu\n",
        "*   Buat yang pake jupyter --> download dulu"
      ],
      "metadata": {
        "id": "9eYoOZsad6_5"
      }
    },
    {
      "cell_type": "code",
      "metadata": {
        "id": "2uf04RF0M7fx",
        "colab": {
          "base_uri": "https://localhost:8080/"
        },
        "outputId": "e1733533-bd32-4766-e56a-f0e5975fb79d"
      },
      "source": [
        "#Import all library needed\n",
        "import matplotlib.pyplot as plt\n",
        "import pandas as pd\n",
        "import seaborn as sns\n",
        "import numpy as np\n",
        "import statsmodels.api as sm\n",
        "from scipy import stats\n",
        "import seaborn as sns\n",
        "%matplotlib inline\n",
        "from sklearn.linear_model import LinearRegression, Lasso, Ridge\n",
        "from sklearn.svm import SVR\n",
        "from sklearn.tree import DecisionTreeRegressor\n",
        "from statsmodels.stats.outliers_influence import variance_inflation_factor\n",
        "from sklearn.metrics import mean_squared_error, mean_absolute_error\n",
        "from sklearn.model_selection import train_test_split"
      ],
      "execution_count": null,
      "outputs": [
        {
          "output_type": "stream",
          "name": "stderr",
          "text": [
            "/usr/local/lib/python3.7/dist-packages/statsmodels/tools/_testing.py:19: FutureWarning: pandas.util.testing is deprecated. Use the functions in the public API at pandas.testing instead.\n",
            "  import pandas.util.testing as tm\n"
          ]
        }
      ]
    },
    {
      "cell_type": "markdown",
      "source": [
        "# Pagi"
      ],
      "metadata": {
        "id": "iP3Oy8EMOtua"
      }
    },
    {
      "cell_type": "markdown",
      "metadata": {
        "id": "7AhD9VHYwua2"
      },
      "source": [
        "# Uji Asumsi Klasik pada Regresi Linier\n",
        "Regresi Linier memiliki 5 asumsi yang perlu dipenuhi. Asumsi ini sebenarnya wajib dalam teori ilmu statistika, namun dalam praktik machine learning proses ini terkadang diabaikan karena ketidaktahuan. Uji ini berfungsi untuk ketepatan estimasi dan menjauhkan dari bias\n",
        "\n",
        "1. Hubungan (korelasi) linier antara feature dan label\n",
        "2. Uji Normalitas\n",
        "3. Tidak terjadi Heteroskedastisitas\n",
        "4. Tidak terdapat autokorelasi\n",
        "5. Tidak terdapat multikolinearitas (**untuk regresi berganda**)\n"
      ]
    },
    {
      "cell_type": "markdown",
      "metadata": {
        "id": "UNm-imVJjvq-"
      },
      "source": [
        "Sumber buku \"Multivariate data analysis\" by Hair"
      ]
    },
    {
      "cell_type": "code",
      "metadata": {
        "id": "ANDW9_mWMF8L",
        "colab": {
          "base_uri": "https://localhost:8080/"
        },
        "outputId": "0ab4a6bb-10f4-481d-9e2f-9bd3567a9e9f"
      },
      "source": [
        "! wget -O 50_Startups.csv https://www.dropbox.com/s/z2ue4a1ogefcuo3/50_Startups.csv?dl=0"
      ],
      "execution_count": null,
      "outputs": [
        {
          "output_type": "stream",
          "name": "stdout",
          "text": [
            "--2022-04-16 12:04:21--  https://www.dropbox.com/s/z2ue4a1ogefcuo3/50_Startups.csv?dl=0\n",
            "Resolving www.dropbox.com (www.dropbox.com)... 162.125.5.18, 2620:100:601d:18::a27d:512\n",
            "Connecting to www.dropbox.com (www.dropbox.com)|162.125.5.18|:443... connected.\n",
            "HTTP request sent, awaiting response... 301 Moved Permanently\n",
            "Location: /s/raw/z2ue4a1ogefcuo3/50_Startups.csv [following]\n",
            "--2022-04-16 12:04:22--  https://www.dropbox.com/s/raw/z2ue4a1ogefcuo3/50_Startups.csv\n",
            "Reusing existing connection to www.dropbox.com:443.\n",
            "HTTP request sent, awaiting response... 302 Found\n",
            "Location: https://ucaeeb8b719e0c179661c4f34e4b.dl.dropboxusercontent.com/cd/0/inline/Bjh0GASC-45sWFHAavtYcLvpHnGss1VGNbzWP65LkWYnTQz3E4sehpFsK0WBe3fynrjr9897LRRrSOhnVvNogqwmBYGZ97MKBApo6tGwHTxnwNA-kqeakraeeIWec2Wn70UOg8XJbx9540jlREuwum7qgcth8NXun9tZ8A3y-gdd2Q/file# [following]\n",
            "--2022-04-16 12:04:22--  https://ucaeeb8b719e0c179661c4f34e4b.dl.dropboxusercontent.com/cd/0/inline/Bjh0GASC-45sWFHAavtYcLvpHnGss1VGNbzWP65LkWYnTQz3E4sehpFsK0WBe3fynrjr9897LRRrSOhnVvNogqwmBYGZ97MKBApo6tGwHTxnwNA-kqeakraeeIWec2Wn70UOg8XJbx9540jlREuwum7qgcth8NXun9tZ8A3y-gdd2Q/file\n",
            "Resolving ucaeeb8b719e0c179661c4f34e4b.dl.dropboxusercontent.com (ucaeeb8b719e0c179661c4f34e4b.dl.dropboxusercontent.com)... 162.125.5.15, 2620:100:601d:15::a27d:50f\n",
            "Connecting to ucaeeb8b719e0c179661c4f34e4b.dl.dropboxusercontent.com (ucaeeb8b719e0c179661c4f34e4b.dl.dropboxusercontent.com)|162.125.5.15|:443... connected.\n",
            "HTTP request sent, awaiting response... 200 OK\n",
            "Length: 2436 (2.4K) [text/plain]\n",
            "Saving to: ‘50_Startups.csv’\n",
            "\n",
            "50_Startups.csv     100%[===================>]   2.38K  --.-KB/s    in 0s      \n",
            "\n",
            "2022-04-16 12:04:22 (273 MB/s) - ‘50_Startups.csv’ saved [2436/2436]\n",
            "\n"
          ]
        }
      ]
    },
    {
      "cell_type": "code",
      "metadata": {
        "id": "uoaC5jQezImq",
        "colab": {
          "base_uri": "https://localhost:8080/",
          "height": 206
        },
        "outputId": "7d207d62-16eb-46f7-9c9e-352caacdda5a"
      },
      "source": [
        "reglin = pd.read_csv('50_Startups.csv')\n",
        "reglin.head()"
      ],
      "execution_count": null,
      "outputs": [
        {
          "output_type": "execute_result",
          "data": {
            "text/plain": [
              "   R&D Spend  Administration  Marketing Spend       State     Profit\n",
              "0  165349.20       136897.80        471784.10    New York  192261.83\n",
              "1  162597.70       151377.59        443898.53  California  191792.06\n",
              "2  153441.51       101145.55        407934.54     Florida  191050.39\n",
              "3  144372.41       118671.85        383199.62    New York  182901.99\n",
              "4  142107.34        91391.77        366168.42     Florida  166187.94"
            ],
            "text/html": [
              "\n",
              "  <div id=\"df-3da192be-2d2a-4663-b7b1-c1804e20119f\">\n",
              "    <div class=\"colab-df-container\">\n",
              "      <div>\n",
              "<style scoped>\n",
              "    .dataframe tbody tr th:only-of-type {\n",
              "        vertical-align: middle;\n",
              "    }\n",
              "\n",
              "    .dataframe tbody tr th {\n",
              "        vertical-align: top;\n",
              "    }\n",
              "\n",
              "    .dataframe thead th {\n",
              "        text-align: right;\n",
              "    }\n",
              "</style>\n",
              "<table border=\"1\" class=\"dataframe\">\n",
              "  <thead>\n",
              "    <tr style=\"text-align: right;\">\n",
              "      <th></th>\n",
              "      <th>R&amp;D Spend</th>\n",
              "      <th>Administration</th>\n",
              "      <th>Marketing Spend</th>\n",
              "      <th>State</th>\n",
              "      <th>Profit</th>\n",
              "    </tr>\n",
              "  </thead>\n",
              "  <tbody>\n",
              "    <tr>\n",
              "      <th>0</th>\n",
              "      <td>165349.20</td>\n",
              "      <td>136897.80</td>\n",
              "      <td>471784.10</td>\n",
              "      <td>New York</td>\n",
              "      <td>192261.83</td>\n",
              "    </tr>\n",
              "    <tr>\n",
              "      <th>1</th>\n",
              "      <td>162597.70</td>\n",
              "      <td>151377.59</td>\n",
              "      <td>443898.53</td>\n",
              "      <td>California</td>\n",
              "      <td>191792.06</td>\n",
              "    </tr>\n",
              "    <tr>\n",
              "      <th>2</th>\n",
              "      <td>153441.51</td>\n",
              "      <td>101145.55</td>\n",
              "      <td>407934.54</td>\n",
              "      <td>Florida</td>\n",
              "      <td>191050.39</td>\n",
              "    </tr>\n",
              "    <tr>\n",
              "      <th>3</th>\n",
              "      <td>144372.41</td>\n",
              "      <td>118671.85</td>\n",
              "      <td>383199.62</td>\n",
              "      <td>New York</td>\n",
              "      <td>182901.99</td>\n",
              "    </tr>\n",
              "    <tr>\n",
              "      <th>4</th>\n",
              "      <td>142107.34</td>\n",
              "      <td>91391.77</td>\n",
              "      <td>366168.42</td>\n",
              "      <td>Florida</td>\n",
              "      <td>166187.94</td>\n",
              "    </tr>\n",
              "  </tbody>\n",
              "</table>\n",
              "</div>\n",
              "      <button class=\"colab-df-convert\" onclick=\"convertToInteractive('df-3da192be-2d2a-4663-b7b1-c1804e20119f')\"\n",
              "              title=\"Convert this dataframe to an interactive table.\"\n",
              "              style=\"display:none;\">\n",
              "        \n",
              "  <svg xmlns=\"http://www.w3.org/2000/svg\" height=\"24px\"viewBox=\"0 0 24 24\"\n",
              "       width=\"24px\">\n",
              "    <path d=\"M0 0h24v24H0V0z\" fill=\"none\"/>\n",
              "    <path d=\"M18.56 5.44l.94 2.06.94-2.06 2.06-.94-2.06-.94-.94-2.06-.94 2.06-2.06.94zm-11 1L8.5 8.5l.94-2.06 2.06-.94-2.06-.94L8.5 2.5l-.94 2.06-2.06.94zm10 10l.94 2.06.94-2.06 2.06-.94-2.06-.94-.94-2.06-.94 2.06-2.06.94z\"/><path d=\"M17.41 7.96l-1.37-1.37c-.4-.4-.92-.59-1.43-.59-.52 0-1.04.2-1.43.59L10.3 9.45l-7.72 7.72c-.78.78-.78 2.05 0 2.83L4 21.41c.39.39.9.59 1.41.59.51 0 1.02-.2 1.41-.59l7.78-7.78 2.81-2.81c.8-.78.8-2.07 0-2.86zM5.41 20L4 18.59l7.72-7.72 1.47 1.35L5.41 20z\"/>\n",
              "  </svg>\n",
              "      </button>\n",
              "      \n",
              "  <style>\n",
              "    .colab-df-container {\n",
              "      display:flex;\n",
              "      flex-wrap:wrap;\n",
              "      gap: 12px;\n",
              "    }\n",
              "\n",
              "    .colab-df-convert {\n",
              "      background-color: #E8F0FE;\n",
              "      border: none;\n",
              "      border-radius: 50%;\n",
              "      cursor: pointer;\n",
              "      display: none;\n",
              "      fill: #1967D2;\n",
              "      height: 32px;\n",
              "      padding: 0 0 0 0;\n",
              "      width: 32px;\n",
              "    }\n",
              "\n",
              "    .colab-df-convert:hover {\n",
              "      background-color: #E2EBFA;\n",
              "      box-shadow: 0px 1px 2px rgba(60, 64, 67, 0.3), 0px 1px 3px 1px rgba(60, 64, 67, 0.15);\n",
              "      fill: #174EA6;\n",
              "    }\n",
              "\n",
              "    [theme=dark] .colab-df-convert {\n",
              "      background-color: #3B4455;\n",
              "      fill: #D2E3FC;\n",
              "    }\n",
              "\n",
              "    [theme=dark] .colab-df-convert:hover {\n",
              "      background-color: #434B5C;\n",
              "      box-shadow: 0px 1px 3px 1px rgba(0, 0, 0, 0.15);\n",
              "      filter: drop-shadow(0px 1px 2px rgba(0, 0, 0, 0.3));\n",
              "      fill: #FFFFFF;\n",
              "    }\n",
              "  </style>\n",
              "\n",
              "      <script>\n",
              "        const buttonEl =\n",
              "          document.querySelector('#df-3da192be-2d2a-4663-b7b1-c1804e20119f button.colab-df-convert');\n",
              "        buttonEl.style.display =\n",
              "          google.colab.kernel.accessAllowed ? 'block' : 'none';\n",
              "\n",
              "        async function convertToInteractive(key) {\n",
              "          const element = document.querySelector('#df-3da192be-2d2a-4663-b7b1-c1804e20119f');\n",
              "          const dataTable =\n",
              "            await google.colab.kernel.invokeFunction('convertToInteractive',\n",
              "                                                     [key], {});\n",
              "          if (!dataTable) return;\n",
              "\n",
              "          const docLinkHtml = 'Like what you see? Visit the ' +\n",
              "            '<a target=\"_blank\" href=https://colab.research.google.com/notebooks/data_table.ipynb>data table notebook</a>'\n",
              "            + ' to learn more about interactive tables.';\n",
              "          element.innerHTML = '';\n",
              "          dataTable['output_type'] = 'display_data';\n",
              "          await google.colab.output.renderOutput(dataTable, element);\n",
              "          const docLink = document.createElement('div');\n",
              "          docLink.innerHTML = docLinkHtml;\n",
              "          element.appendChild(docLink);\n",
              "        }\n",
              "      </script>\n",
              "    </div>\n",
              "  </div>\n",
              "  "
            ]
          },
          "metadata": {},
          "execution_count": 3
        }
      ]
    },
    {
      "cell_type": "code",
      "metadata": {
        "colab": {
          "base_uri": "https://localhost:8080/"
        },
        "id": "_f1zGI0VXHJY",
        "outputId": "f9d93a1d-94f0-45c7-b36f-bfdadb0d5612"
      },
      "source": [
        "reglin.info()"
      ],
      "execution_count": null,
      "outputs": [
        {
          "output_type": "stream",
          "name": "stdout",
          "text": [
            "<class 'pandas.core.frame.DataFrame'>\n",
            "RangeIndex: 50 entries, 0 to 49\n",
            "Data columns (total 5 columns):\n",
            " #   Column           Non-Null Count  Dtype  \n",
            "---  ------           --------------  -----  \n",
            " 0   R&D Spend        50 non-null     float64\n",
            " 1   Administration   50 non-null     float64\n",
            " 2   Marketing Spend  50 non-null     float64\n",
            " 3   State            50 non-null     object \n",
            " 4   Profit           50 non-null     float64\n",
            "dtypes: float64(4), object(1)\n",
            "memory usage: 2.1+ KB\n"
          ]
        }
      ]
    },
    {
      "cell_type": "markdown",
      "metadata": {
        "id": "sml46avb6YnH"
      },
      "source": [
        "## 1. Hubungan Linier antara tiap feature dengan label (X dan Y)\n",
        "Bisa menggunakan plot atau analisis korelasi"
      ]
    },
    {
      "cell_type": "code",
      "source": [
        "reglin.corr()"
      ],
      "metadata": {
        "colab": {
          "base_uri": "https://localhost:8080/",
          "height": 175
        },
        "id": "YtVircRjWr_a",
        "outputId": "80813805-04be-4ba3-e56d-9ebbeddbecc9"
      },
      "execution_count": null,
      "outputs": [
        {
          "output_type": "execute_result",
          "data": {
            "text/plain": [
              "                 R&D Spend  Administration  Marketing Spend    Profit\n",
              "R&D Spend         1.000000        0.241955         0.724248  0.972900\n",
              "Administration    0.241955        1.000000        -0.032154  0.200717\n",
              "Marketing Spend   0.724248       -0.032154         1.000000  0.747766\n",
              "Profit            0.972900        0.200717         0.747766  1.000000"
            ],
            "text/html": [
              "\n",
              "  <div id=\"df-38025830-9bb5-462f-8653-b94eae8173a2\">\n",
              "    <div class=\"colab-df-container\">\n",
              "      <div>\n",
              "<style scoped>\n",
              "    .dataframe tbody tr th:only-of-type {\n",
              "        vertical-align: middle;\n",
              "    }\n",
              "\n",
              "    .dataframe tbody tr th {\n",
              "        vertical-align: top;\n",
              "    }\n",
              "\n",
              "    .dataframe thead th {\n",
              "        text-align: right;\n",
              "    }\n",
              "</style>\n",
              "<table border=\"1\" class=\"dataframe\">\n",
              "  <thead>\n",
              "    <tr style=\"text-align: right;\">\n",
              "      <th></th>\n",
              "      <th>R&amp;D Spend</th>\n",
              "      <th>Administration</th>\n",
              "      <th>Marketing Spend</th>\n",
              "      <th>Profit</th>\n",
              "    </tr>\n",
              "  </thead>\n",
              "  <tbody>\n",
              "    <tr>\n",
              "      <th>R&amp;D Spend</th>\n",
              "      <td>1.000000</td>\n",
              "      <td>0.241955</td>\n",
              "      <td>0.724248</td>\n",
              "      <td>0.972900</td>\n",
              "    </tr>\n",
              "    <tr>\n",
              "      <th>Administration</th>\n",
              "      <td>0.241955</td>\n",
              "      <td>1.000000</td>\n",
              "      <td>-0.032154</td>\n",
              "      <td>0.200717</td>\n",
              "    </tr>\n",
              "    <tr>\n",
              "      <th>Marketing Spend</th>\n",
              "      <td>0.724248</td>\n",
              "      <td>-0.032154</td>\n",
              "      <td>1.000000</td>\n",
              "      <td>0.747766</td>\n",
              "    </tr>\n",
              "    <tr>\n",
              "      <th>Profit</th>\n",
              "      <td>0.972900</td>\n",
              "      <td>0.200717</td>\n",
              "      <td>0.747766</td>\n",
              "      <td>1.000000</td>\n",
              "    </tr>\n",
              "  </tbody>\n",
              "</table>\n",
              "</div>\n",
              "      <button class=\"colab-df-convert\" onclick=\"convertToInteractive('df-38025830-9bb5-462f-8653-b94eae8173a2')\"\n",
              "              title=\"Convert this dataframe to an interactive table.\"\n",
              "              style=\"display:none;\">\n",
              "        \n",
              "  <svg xmlns=\"http://www.w3.org/2000/svg\" height=\"24px\"viewBox=\"0 0 24 24\"\n",
              "       width=\"24px\">\n",
              "    <path d=\"M0 0h24v24H0V0z\" fill=\"none\"/>\n",
              "    <path d=\"M18.56 5.44l.94 2.06.94-2.06 2.06-.94-2.06-.94-.94-2.06-.94 2.06-2.06.94zm-11 1L8.5 8.5l.94-2.06 2.06-.94-2.06-.94L8.5 2.5l-.94 2.06-2.06.94zm10 10l.94 2.06.94-2.06 2.06-.94-2.06-.94-.94-2.06-.94 2.06-2.06.94z\"/><path d=\"M17.41 7.96l-1.37-1.37c-.4-.4-.92-.59-1.43-.59-.52 0-1.04.2-1.43.59L10.3 9.45l-7.72 7.72c-.78.78-.78 2.05 0 2.83L4 21.41c.39.39.9.59 1.41.59.51 0 1.02-.2 1.41-.59l7.78-7.78 2.81-2.81c.8-.78.8-2.07 0-2.86zM5.41 20L4 18.59l7.72-7.72 1.47 1.35L5.41 20z\"/>\n",
              "  </svg>\n",
              "      </button>\n",
              "      \n",
              "  <style>\n",
              "    .colab-df-container {\n",
              "      display:flex;\n",
              "      flex-wrap:wrap;\n",
              "      gap: 12px;\n",
              "    }\n",
              "\n",
              "    .colab-df-convert {\n",
              "      background-color: #E8F0FE;\n",
              "      border: none;\n",
              "      border-radius: 50%;\n",
              "      cursor: pointer;\n",
              "      display: none;\n",
              "      fill: #1967D2;\n",
              "      height: 32px;\n",
              "      padding: 0 0 0 0;\n",
              "      width: 32px;\n",
              "    }\n",
              "\n",
              "    .colab-df-convert:hover {\n",
              "      background-color: #E2EBFA;\n",
              "      box-shadow: 0px 1px 2px rgba(60, 64, 67, 0.3), 0px 1px 3px 1px rgba(60, 64, 67, 0.15);\n",
              "      fill: #174EA6;\n",
              "    }\n",
              "\n",
              "    [theme=dark] .colab-df-convert {\n",
              "      background-color: #3B4455;\n",
              "      fill: #D2E3FC;\n",
              "    }\n",
              "\n",
              "    [theme=dark] .colab-df-convert:hover {\n",
              "      background-color: #434B5C;\n",
              "      box-shadow: 0px 1px 3px 1px rgba(0, 0, 0, 0.15);\n",
              "      filter: drop-shadow(0px 1px 2px rgba(0, 0, 0, 0.3));\n",
              "      fill: #FFFFFF;\n",
              "    }\n",
              "  </style>\n",
              "\n",
              "      <script>\n",
              "        const buttonEl =\n",
              "          document.querySelector('#df-38025830-9bb5-462f-8653-b94eae8173a2 button.colab-df-convert');\n",
              "        buttonEl.style.display =\n",
              "          google.colab.kernel.accessAllowed ? 'block' : 'none';\n",
              "\n",
              "        async function convertToInteractive(key) {\n",
              "          const element = document.querySelector('#df-38025830-9bb5-462f-8653-b94eae8173a2');\n",
              "          const dataTable =\n",
              "            await google.colab.kernel.invokeFunction('convertToInteractive',\n",
              "                                                     [key], {});\n",
              "          if (!dataTable) return;\n",
              "\n",
              "          const docLinkHtml = 'Like what you see? Visit the ' +\n",
              "            '<a target=\"_blank\" href=https://colab.research.google.com/notebooks/data_table.ipynb>data table notebook</a>'\n",
              "            + ' to learn more about interactive tables.';\n",
              "          element.innerHTML = '';\n",
              "          dataTable['output_type'] = 'display_data';\n",
              "          await google.colab.output.renderOutput(dataTable, element);\n",
              "          const docLink = document.createElement('div');\n",
              "          docLink.innerHTML = docLinkHtml;\n",
              "          element.appendChild(docLink);\n",
              "        }\n",
              "      </script>\n",
              "    </div>\n",
              "  </div>\n",
              "  "
            ]
          },
          "metadata": {},
          "execution_count": 5
        }
      ]
    },
    {
      "cell_type": "code",
      "source": [
        "#Atau Jika menggunakan heatmap\n",
        "sns.heatmap(reglin.corr(), annot=True)"
      ],
      "metadata": {
        "colab": {
          "base_uri": "https://localhost:8080/",
          "height": 361
        },
        "id": "LvOoFXiAW7cX",
        "outputId": "74c867e3-a26a-4c9f-d7f0-03621bf31826"
      },
      "execution_count": null,
      "outputs": [
        {
          "output_type": "execute_result",
          "data": {
            "text/plain": [
              "<matplotlib.axes._subplots.AxesSubplot at 0x7fbdc8fdb450>"
            ]
          },
          "metadata": {},
          "execution_count": 6
        },
        {
          "output_type": "display_data",
          "data": {
            "text/plain": [
              "<Figure size 432x288 with 2 Axes>"
            ],
            "image/png": "[encoded data removed]"
          },
          "metadata": {
            "needs_background": "light"
          }
        }
      ]
    },
    {
      "cell_type": "markdown",
      "source": [
        "Dari analisis korelasi terlihat yang punya hubungan linier cukup kuat dengan profit adalah R&D Spend dan Marketing Spend. Mari lihat hasil scatter plotnya untuk lebih meyakinkan"
      ],
      "metadata": {
        "id": "lJzgCsoGY3mn"
      }
    },
    {
      "cell_type": "code",
      "metadata": {
        "id": "3ThK1c6q-S86",
        "colab": {
          "base_uri": "https://localhost:8080/",
          "height": 282
        },
        "outputId": "c6add440-e512-4f6b-e8e9-171dc3436330"
      },
      "source": [
        "plt.scatter(reglin['Marketing Spend'], reglin['Profit'], color='blue')\n",
        "plt.xlabel(\"Marketing Spend\")\n",
        "plt.ylabel(\"Profit\")\n",
        "plt.show()"
      ],
      "execution_count": null,
      "outputs": [
        {
          "output_type": "display_data",
          "data": {
            "text/plain": [
              "<Figure size 432x288 with 1 Axes>"
            ],
            "image/png": "[encoded data removed]"
          },
          "metadata": {
            "needs_background": "light"
          }
        }
      ]
    },
    {
      "cell_type": "markdown",
      "source": [
        "## Tugas 1 Coba lakukan scatter plot untuk Administration dan R&D spend"
      ],
      "metadata": {
        "id": "-QR7BgPPQtXi"
      }
    },
    {
      "cell_type": "code",
      "metadata": {
        "id": "R6xblcbkZ7LS"
      },
      "source": [
        "#Administration\n",
        "#Type Your Code Here\n"
      ],
      "execution_count": null,
      "outputs": []
    },
    {
      "cell_type": "code",
      "metadata": {
        "id": "bomCAU1KaRXc",
        "colab": {
          "base_uri": "https://localhost:8080/",
          "height": 282
        },
        "outputId": "f4209441-7944-420f-a3ec-b3297a9f6d13"
      },
      "source": [
        "#R&D Spend\n",
        "#Type Your Code Here\n",
        "plt.scatter(reglin['Administration'], reglin['Profit'], color='blue')\n",
        "plt.xlabel(\"Administration\")\n",
        "plt.ylabel(\"Profit\")\n",
        "plt.show()\n"
      ],
      "execution_count": null,
      "outputs": [
        {
          "output_type": "display_data",
          "data": {
            "text/plain": [
              "<Figure size 432x288 with 1 Axes>"
            ],
            "image/png": "[encoded data removed]"
          },
          "metadata": {
            "needs_background": "light"
          }
        }
      ]
    },
    {
      "cell_type": "code",
      "source": [
        "plt.scatter(reglin['R&D Spend'], reglin['Profit'], color='blue')\n",
        "plt.xlabel(\"R&D Spend\")\n",
        "plt.ylabel(\"Profit\")\n",
        "plt.show()"
      ],
      "metadata": {
        "colab": {
          "base_uri": "https://localhost:8080/",
          "height": 282
        },
        "id": "6meg1nSvRdhj",
        "outputId": "e1f662fc-9375-444b-814a-2ff4711a966c"
      },
      "execution_count": null,
      "outputs": [
        {
          "output_type": "display_data",
          "data": {
            "text/plain": [
              "<Figure size 432x288 with 1 Axes>"
            ],
            "image/png": "[encoded data removed]"
          },
          "metadata": {
            "needs_background": "light"
          }
        }
      ]
    },
    {
      "cell_type": "markdown",
      "metadata": {
        "id": "EEyaHDz60gPK"
      },
      "source": [
        "Terlihat bahwa R&D dan marketing spend plotnya masih cenderung membentuk garis yang menunjukkan masing-masing memiliki hubungan yang kuat dengan profit, sementara administration plotnya terlihat berpencar sehingga tidak ada hubungan linier dengan profit. Jadi kedepannya variabel yang kita gunakan sebagai feature adalah R&D dan marketing spend."
      ]
    },
    {
      "cell_type": "markdown",
      "source": [
        "## Tugas 2 : Lakukan Splitting Data Seperti Contoh ini\n",
        "\n",
        "![image.png](data:image/png;base64,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)"
      ],
      "metadata": {
        "id": "VR8fR6LPRQNM"
      }
    },
    {
      "cell_type": "code",
      "source": [
        "features = ['R&D Spend', 'Marketing Spend']\n",
        "X = reglin[features].values\n",
        "Y = reglin.Profit\n",
        "\n",
        "X_train, X_test, Y_train, Y_test = train_test_split(X, Y, test_size=0.2, random_state=23)"
      ],
      "metadata": {
        "id": "DL5dJ9CdRmc0"
      },
      "execution_count": null,
      "outputs": []
    },
    {
      "cell_type": "markdown",
      "metadata": {
        "id": "SsIcAH0i7YQQ"
      },
      "source": [
        "## 2. Uji normalitas\n",
        "Disini yang kita uji adalah normalitas residual (errornya). Mengapa? karena menurut sifat distribusi normal, kalo errornya normal dan modelnya linier maka koefisien regresinya juga berdistribusi normal (terhindar dari bias outlier)."
      ]
    },
    {
      "cell_type": "code",
      "metadata": {
        "id": "4VR_LhfjCHsx",
        "colab": {
          "base_uri": "https://localhost:8080/"
        },
        "outputId": "09492118-56e4-4de3-f416-f74210c827b8"
      },
      "source": [
        "lin_reg = LinearRegression()\n",
        "lin_reg.fit(X_train, Y_train)"
      ],
      "execution_count": null,
      "outputs": [
        {
          "output_type": "execute_result",
          "data": {
            "text/plain": [
              "LinearRegression()"
            ]
          },
          "metadata": {},
          "execution_count": 13
        }
      ]
    },
    {
      "cell_type": "markdown",
      "source": [
        "## Tugas 3 :    Uji Normalitas\n",
        "\n",
        "Ketik kodingan ini\n",
        "\n",
        "![image.png](data:image/png;base64,iVBORw0KGgoAAAANSUhEUgAAAloAAACWCAYAAAAG7iYMAAAgAElEQVR4nO2dXWgcV5r3//MyFynmwgQlbgcRUax1EROBUQRqZsKMKtgXNhneskRW3awhqpvZJC/raEVIGu2FOOhiRSUEjeLlnWTmphTI0qU1kgsS7BccUpqQDdUgNwKH+EIeCgVhtT0mmCXU3M17UV+nqqu7qz+q9eHnBwK7Tp2v51TVefp5nnPOzxzH+TsIgiAIgiCInvO/DroBBEEQBEEQxxVStAiCIAiCIDKCFC2CIAiCIIiMIEWLIAiCIAgiI0jRIgiCIAiCyAhStAiCIAiCIDKCFC2CIAiCIIiMIEWLIAiCIAgiI0jRIgiCIAiCyAhStAiCIAiCIDKCFC2CIAiCIIiMIEWLIAiCIAgiI46HorWnoyiosPpYpbUkQBCK0Pf6WGkL3Da5f8W1WuI9tbUiBEGAWulz444DDZ6z7J8FC+ohe9Za0fFztqejeFlH8tNLHGm2VQgfx8fWgqoKDa+r291U2KjsflKD/nEb/djXUVQFCKoAQe12Tmuz7iOOpQsQ1CL0/YNuST3HQ9FKoqJCeMI+2Pl5B47jwFw46JYQqUj1A6EG/bKE6uoKCoPelbVivWJXUdtT9g7r+zFYwNyIAnGpnz+bjjn7OoqeslG7VYSgh7J1Jyf+r78/WIkYpwoolxw4MxrkA6je0gUUb2XzVciy7MPOzw+6AUeV/LwDZ/6gW9E+uekynOmDbsXxIstnobY2CwUa7OlccC03XYZ5T4D0ng7pswJysKBOMLBNJ1DGDppunrP8vA3tsgi14qA03tt2PbE8LSIHoAZAHhCjaaIJp5AH4CpioqrCLJWQ70vD8iiVHJSOXNnEYSNfcOAcdCMa0NiiVVEhxH9tJ11rln/JClwIcXeWteT+n0+PuhksqEITV1hFDdKEYQWGf31PR1EQIEwwYF2BGJQRtrtl3XzZ8TS//FiZLjXol4vQ9/i2H5ZfiHyb6i0ftbUiimu1iPsxtdsnsMxwdcSsJbys62USHetGbUyiVbsze86Cfjcf52i//bq9OocVGGCQGvbZgjYDaO8XkIuVm583wdYVaBXAWpLAFsx0Skkv3o/4eEWsT82es7TvRw6FWQa2cggtbkcK13UkrCowbAmCKkDcMmBsiQ0tV7nzc2BgMLfD/Oo2b/mKuWa2Vc4aVu+2qd0qhuk3WeM0vcVX0nepcW7ASP6Ym7GtsqOtgv5xEfotNcjr950vP2oJjPfbc1mqAgRVhPI4VkULmXVH87qjMgvr9q9LNrznI0l2fNnp5dq67Hafs5g7tKm71RvPfb7t/Z+TGyta45L7wvGT1pcMWJDS/9JZlCDem4PjOHB2NGBmNvLhNWbEIN1elbkPq+8usd28jonRGTH82O/pKE5Uoe04QdmBmXWwgLLjwNlkwJQG2/HucaK/0BrXbUH9UvLyuOWwCW5g/PJ3Gpl2DSjDyxB3HDiODW2KYblBvFR/yaPkyZI1uMOYEbF82k6QSRoYJMHvd6gEAAAqKsSZUZieTO3VKiROEfMVBX4s2WY5tXWGb3fdeCGj5wxo+SzU1oqRfjuOb6HxxmJHgwzGpcf6XDHBpiYhJcohD2VVBpsQIC3K0F5P+VZ2/X4A1pIJKchngi1KnCLW6jlL+X6MS2DrGzCPUFza4SOHwpsO7DEZ8pgNp2RDOwGwCw6cNixW7KaA5QEbTsmBKRpQNr23a19H8WYV2owDp+TAuTAKZZV797ZViFujMEt+evSJyJ0vwym57WvKvo7iqoLRCw6cN70fHfs6ZvmySw5KZzsoOxEDyo4Ie0aDbEtYHrBhj8lgd92e1W4VIf2owfbqtcfA9bsG/WMJ1THba5cr80hfmsmsK1rXrWElkJc9BijX3ffal5cpwntWvPYVwqfE0k1IgbxNMFtKFf+VpmygyXMGC+pdKcx3gYHd5GTW0t1qQFldhjjjy4Rhuc8uzCYxWt6H/Muws2Y7H3TA/ZDPe/cPSpicMmDvJafnXp6EvG7DBoA9ExvQsBK4S6JtsT5VAC5mpSMa1Y08SvNcH8clMFSj7W5BqCTkIMkyjHt2qny8VaZdy05PWDBR9mQelUk6wn7nIS0AVdtTXb9kYJvhhz03PcdNohbMRYCd45+TMG+77U4crwN5zixoM0ak3+1Ss6vAiFhnzfLJTc+5yszCXO9dhg3fDyA/z/cpOtZpSPd+iBDj3wuiS2zYj2WIjR4oAJYugZ3QoHBKC0QT5fNupvwLDPjRduO97mwAYysonPLuO6tAO8FZw75lYBe6dEE+DJUsXpFy8evqPeyXvhWZYe48LzAL2pbBpQO58ythv7c1KNCwcj5ZyM1l1iUt6sapAkpcWm5kEvLj9N/4fCH23otA9WEPFZYGzxmQR4lXys563/g2LIHsQtmTeQ7SsAzjUTszW/c0jdHKvTwJecaENZ9HvmKCLczB6fKDXrVrwLgrTFmWwklksICy72Dds2GsMxiCEs28MNdd5RwN64ar8EiLkbuh9azmxhzVuC8XBolzXeXnHZQBADXYdwC2KMQsHL5MRYhTgPKlhdJ43lV+1mVMvt9kNmiJN0F7z+qBPGd7NqqQMdnF+2LfMwA0bou1JLkyXZSgnuttPFOz9wMV1XU98vev9q5ulxzEEWCD+14QbeJZglx3twFhy7u+KmBjzA4mNdgSBNVLO6HBfjPqqmYv8JNcCY6n8FiPDBg2V65/fw+7wLYUAAxzcSXrVAHlCzaEmwLYzeR2Z0dzZbUZdh9k1pga9I/j7kTW5AsTY1utc//KAz1qGho/Z4DrUpQiulF/5uRe0TwYflDC5JQIs1ICvmRg57oPNRtN+4ROabA/69eLE1JbK0JaZDADV4oFVVjuS931Ch4AyNB20rvRDitss5Ei4E6oWJQgeH2XV+0u+ytDTJs/q+dsUMRol0WIp2XgXoPEiuq6DHfKED8VIE2okJw+BDDv6Sh6gff+eFpLAnr/hrgK+ug5UrI65lQB5ZIE/WMR9i8dlHI6iqs25uJuQy4Yvl1kXmHLAHbBgXRXgPSxWK9InS3BOeuGulu6APFj9EnZMmDXAPhWKdiw43FYTchaZo2wdNFdWFMK3a/F1ZSWnX0dxZsMjLMsWnoW7309tVtFSDbjFmhYUNX+zMm9osX2Dn5QahHLdzQoXfxirq3NQlmPWj0aMi6BrSuYbRDbJJ6WYRhmGFMVD1IGgEERcqcxHlMi/HU5gdWgD/jbM0T/jrqS5bqH4nFTAXs6lhdZJI6pPJ3wEfKD0lss+7eWpCZxTTF68Zw1JA9pwYDyXpM4t0ERo7E4SJ6cOArcsRPy16CvsMBlmJ83wdBmLGA37wevyFbUhB8HvcCGvd6Gwkw0gbPAnAi/bd2Sf4HB2JptEMydg/g0grgmf6LuqJ6CDQ0KxCbB1+JAvzZDcF1m7Fs+KH85dLfmRMiPN2B6MrH0qAWpucy6pEXdAILVp0AN+vX675k4IMPYMRt8s7jnaFuNWZha07zsFnDPraX3b07uFa330RqXwNYNgHclpIVb1eQGBaf9xZ1HyQtMTlr9l5tecV88QYAgLEPcSQi8HSxgZRVQhttb/efGD4XtXj6tRcoOVmJFVowdhpWF4UouadENZo6sogtWz0lgMDy59Cf+KzdddgPg+dgzPxh+sIC5BRZNa7LhaiKLUpBPutOOhaq756zVs5Cfd2CO8Cv74qv38ihtMrCJBvF4niKoxRQxa0mEss5gBrGEbjkGH8jfig7fD3e8jDDfigiN37etV89Z04UARHo4a0vNbuOHQgrOlrxgbn4FHvf8F9yAaUEVIKzamIsEK3srIr2VkPDvS1Smcii86Zfllh9fcShujcIMrFntlN0++YID82kFYlLdpwpYGUMgk+UBGyav2baQWdCvVe+b0s4quRZ15yfc4H5/RaI9XB88njvvffPiKwNPFTAnGmG7vxWhtamxNyy7Zb45sMdhvuWB2Jzcjcz6xM8cx/l781tc15nYrvuqokJYEQ/E/UccIfZ0FIdtzPFK+J6O4vAGJlM8c7W1ors6bj5zp9mBUFsrQjQmn7D3qAb9sgh7lvbRIgji6NPSouUuvc9gVRNBAG5AeuxS7ZsNGBgltxFCq1oj9+ZxxFoSoYyk3BeMIAjikNNQ0fK3GpDucFs0+EQ2aqz/a8vtQxxush7r8RLMmOuwPTfzcSeHwmcmRmN70DUivkHqgW0V0il7OpaTvjkEQRBHlBSuQ4IgCIIgCKITju+h0gRBEARBEAcMKVoEQRAEQRAZQYoWQRAEQRBERpCiRRAEQRAEkRGkaBEEQRAEQWQEKVoHSg365fhu4RnX6C3/72edRx2SGUF0jqULENRiy2NnLF1A8VZvtgaK7Bzfox3hM2FfR/GQ7WKeHRZUVYDwcZNjyY4ppGgdNipqeDzNscdVNOvPL3SPE0q9R9cTJTOCaJN9HUVvcqvdKkYUj/hRNoft6JJOyZ0vwyk5sMf6dQZi/+ilQtrPsp9kfn7QDSD6S266DGf6oFvhk0PhfQ0bw8vQXw+P26mtLYNNabCTDpc+AA6XzAiiA7zDhGsA5IHYIXWiCafgbhBr6QKkj0XYb/buyKd8wYHTo7KIo0wepZKD0kE34wBoYdHyLA7+ztIRy0Po9vJ3kY/sPL2noyiosLjDjvtjdXDri7p5kq41oKJCWLIiO2xHLCu+9YTfMT1BLskyC9vipotQ1r3LfnkTLHIYN3/Yr7XktoVvW1I/k+vm0+p3CK+tFVFcq3Fj2SdXmX9I8adBL6HNGGCzKT70T6rMCCIV3uHKqwoM7zBhccuAsSU2tFyJA3ELkOfu8f7qrB3basQiFknf11FsaikLD38WVAGSHa836m6MW1ui1rjWrslo2Sosvn2BO8ttU7Sf9dc6rxtRma0q9UeQNSjbvy7Z8MYwyTUaHa+0btPWZbsyULd9V3BCv2PPgrrdoE91bWo2HseDpoqWf+aY4zhwHBvaHanOncMmBCyftuE4DszIhAkADJKwDHHHgeOYYOsKtMwnojykBYB9ybWjYoKBQUp7dtqi5B5U7DhwdjQgfvzJugJx2Macly4vLgfpzWVWg35ZQnXVDtOnvKTBAsqOA2eTAVMabMfx7okeRWPMiEHb7FUZbCV8IK0lE1KQzwRblLiJP4+Sf71Bt40ZMRjLeNlZkn89lKFvzVLSjNUTLDOCaE0OhTdd95k8ZsMp2dBOAOyCA6eUdMRVDeaOEVi/3MlVQnXMhlNy4JRMjG6J3ARqQb1ZhTbjeOkOyue5n0enCiiXHDgzGpIceJYuQnnaDPKaYsJNjdjXoWElyGuPAcr1dt49BmnVxpzXL/ZYgbYNADlIwzKMHTMsa9/ExmMZkyO57uve11HkZRaXTZOyfXeoKcIbT6+MQjiSlm5C8q+XTDBbiig8jUhTNgCwmwKWB2zvXgPKZvgDWb0rhfkuMLCboXLd2pXbaDyOB00ULQvmIoMZnDmWQ2GWwTDM6AO1YKLsuXjy5xhwx46ks03fJeQqQFU7xePY6Hy9OutQMu7EbYZWjS8Z5FUl/dl5U9xZa4MSJqcM2BFrhgxtx/tQRdJbyKyiQYGGlW5cYlzbci9PQl634f8QzM/zH8825O3DjWW87EwZLGBlFVA+VdNbs9rhOMqMINrGhv1Yhhh/uTxrl6CK2Bi2w8l138QGNKwEylMeypgMdpf/DhvYuNPBT4t9Hcs2g1no8EzLUwWUOKUuNzIJ+XE7754MbcZ/9/OQRKD60O1H7vwc2OMNmL4l6c4GDHEOhVPd121tKsDYSlhWj/uVL8S+Z1y/eoJoBsp0/gUG/OjP93mU+LE8K4GhCju1pa/xeBwHGsdo7dmogoEJsd/yU1rkv+wcJ9zxEpzPIqkRK1J+3kE5TasGCyg7hTR3NsgvYXJKhFkpIT/uKj9zTndTd9WuAeNeGVOTkAb9lBwKn3kRCCll1g2yLIVKyGABZT74oaK6bjT+/tWeVd0Ua0mAtMjXawcKSBpy03NgggS2YMJJa3lMyWGVGUFkyr6OYuCaMiBseddXBWyM2aH1yYvRqt0qQtwxUTvv/dCp2TAeMxiqEi1XnPP+kUdpRkNxVfTKZjATLWVZUIP+sQjlMX+NYa7R7W2RhyQaWL5TQ+EUYO4A2iW+V1nW3WXZ2yqEm7Hv2UBPGua25AVemSrBORv+19Lj7l8ZvZv5jjYtYrQYzMCt4v191mNrQxJdWrSAHCRZdt2HFRNsQer65R+t+xnYiAOU2QQD2wzrNReyrjQkPx/tcztKlosIcQqQT7fjP+iSA5YZQWTKqQLKvLtwRoMMBjPu4vNwLTkxl80JDXbgikpwJ/nuwZIDe6wKqU+rFi1dhAKubQ3ck52Sf4G57sN9ExuYhMRZoLKsu6uy93UUbzLPNdyBO7YLareKkGz32Qrclv2p+kjQWNEalDA5xSClVm56iB97E/+bT68u5abnwBaXUVypQnu9czWrtjYLZT1lfFcrmQ2KkNc3YPLxXOvN72kPGaJvaauoEQvTsYZkRhBN4NyFJ0Q0nns91+C3XrzRWQnssYLZlMv9c8+Opm/SKRGjYDA9pc6dqOM3GfC9+InpfCzZ9fqg8q44q0CDgtnrGxj9ZcIP5Q7rFgf4+C8LakIwfKuyo2XE4cZ6W02QaTvtaxPu2bJ0iRQtjiYWrRwKn7nB3LxVKfXeRgdOHtKCAQO8my8l3Ao2cWYUppPWHN5CZn4s0rB7ffm0XW9Bid3Dr6Brir96z8+3IkLjy66oXnkSGPz76lfSHUlIZgTRABu274aq2S0VAt+q5SpXeZS8APjE1WSxVWbCzSoXZ8OtNFtVYIBBiqw+zKN0gYHddPOKj+ZigdL16bx1Jj+hQeZiy+xh3vITrmYUt4wwBq2tjUu9oPjHo5DORlOa191KvivQoEBUBQjqMsSZqOUnTdnRMrh+nSpgTjSgrHrXvxWhtWnRalh2y3zuc+PnWx7QuH71YjyONj9zHOfvB92IrLCWXGWmLTdWRYWwIsLuh7uPIAiCOJTUbhUhPpqrW3lHEO1yfDcsraiQFhnMLoPgCYIgiCeMfR2zW4A2Q0oW0T3H7wge390zUQ23YAiIbU7ZcbA90RcaLYo4cm5sgiCOBP6mmasKRi+UG2/DQBBtcKxdhwRBEARBEAfJ8bNoEQRBEARBHBJI0SIIgiAIgsgIUrQIgiAIgiAyghQtgiAIgiCIjCBFiyAIgiAIIiOOiKJVg35ZgFqJXV0rQhDqr2dKZMuBLM/1sqD2eRdya6nPsiQI4thSu1U8ort/W1CDHe+L0Pf7V3M6mXnt+1jv7Kgcou8cEUWr91hLHe7D5J/DuNPpQaLJSmP9PRKqqysotHt8UBfkX9dQnaAjZgjiWLGvo+hNykdX+UlgW81I2cij1NXByO6RM+p26zv7TmYyI5pxpHeGz02X4UwfdCt6T21t1j3BvZ2jg3rBYAHlTRvCezokOoKIII4P3kHFNQDyQJsH4BGHDFcRLB10M4jUtLBoudYXIdFVZkEVVFi8K+1yTFMODuXtZCdvfhd3Ecp6o7RkC4zvVvT/fAuSf11aBIwZsX5X+IoKYcmK5O+83VGZWEthX9hEI7lY0GYA7f0kRSc2HpGd7ENLmVtPTDZ7OoqCCotvX3y8AGDcPbVeIxciQRxxvMN8VxUY3kG+4pYBY0v0Dne2oKoqdO/w5+Ityzv8l3eX8W40AcVbNa7sIvRbanBAsKXHDp32S9ATDqROsPrUW9uidQdp/u7tNxnAHWQcHljdCrffll9OB244vk+8vNzrIpTHCA7Ejsqt/fLrZNT0wOeYzPx+pZJZg7w+vLzi+fd1FINnKil/eLB0PK12q4jiLd3Lp8LaVqP921Yh6Fak76E83fqiz1z8WuO6+0VTRau2NgtlxITjON5f/EgbBmnYxpzjwHFMsHV+gragTlSh7ThB/vSHO/uuM9vLa0Ob4tPzKPl1JmXf0zE7MwrTCesujbtJuekyHMeBuQDIQfkOnHmuZ4sSxHtz7vUdDZiZTelOS2g3FIieQpSfD/vCNhvIpWKCTU1CSnAZWksiNx42tDtSnRLIJtyDtN0+GlA+5V9GBklYhriTNF4+OUiyDPblMXEvEMQTSw6FNx3YYzLkMRtOyYZ2AmAXHDgl/1vOoDyag3OBwdiSYP/SgSka2LhTgztBSaiO2XA8V9rolshNYAaUHRH2jAbZlrA8YMMek8Huct8O77pTcuBcYGA308e1WroJqeQEdTNbcus+VUDZKw8nNNjBPfH5qRkM0qqNuZLjygUKZlMqQ7VbRUg/hvXaY4Cy6vYrX3Bicnb/yufb8A9wMrPHZLBvQ8Ugd74cXE/C0vnxcuC86f1gbymz+Fh7c1egzNWgX1eAsXAsARnaDC9zBkldhjjjjddjBdq2LzMNuOREyublbWxtQJyxoZ1gkL71nykzfFZsyT3g26vb2NK8tDwkEdFnbtsEA4N0Nl3d/aB1jNai2eTFkLnzBPOQFoCqzXfAwMY3HXSookGBhpWuXGcMZqdWmSkNtq94DUqYnDJgp1G0KhqUdYa5oN05FN7XIDeVYZSaXQVGxARrlgVzkcEMFMIcCrMMhmFGtfMFM1Dc8ucYcMeOpLPNshf3lTReXsniaF0+giCOOjbsxzLEyMdFhjbhfVNOaFDOckn7JjagYSVQEvJQYooU+6VveWeYS1ImRDNUMs5KYGAwU8Yu5Qv8JO5OqNWHvfoq8UpCDtKwDOORnSKfBW3L4PoN5M6vQDuRvl8t4WSWG5mE/NhGmpb5GDtm+9/ubQ3KY34Mcyhc4pSdfRMbj2VMjvBjaSA+fbDgfMjoeOXOl7hzIxPkLc4F6bxsA05osAt5ru4qbM+KmJ+IKmXWXQZ5TAmenZZ194GmilZuugxzgUHqyIWWR2lHAwL3XJYr9GIMFlDeZKF7LslF1iZJCkkiUyK6iYCw7xnJCXs2qgjHwj04u96ex85xv+nGS3AisVYM0niYnJ9vYGUcFCGvt/dyEwRxyPBcPaG70J0cldWUrqyaDSPiZnLL6hwR4ok2bvddSN6flPUH6ce0Py7jyurhIV/wLFEJbseWnGgyd50SMQrf0ok6q5FL9P/5AmfJi7kdu3uO4m2TMBkouhZMO6b0Z1l3SlpatFx3l+tqGp0R21O2/BV6jgN7tQqpn8rWeClwzZkjCsQula3RtG9WXEHZs9HOsIqnm61lZBF3qOM4MUWqR+zZMLpUGAmCOGBOFVDm3VgzGmQwmO24siJuJu+vkN5BFyXJotaAfR3FmyzifjOz/iA9neRJSCJuybFhP86kRR3guoudkjve1ZttKFtxy1mNn7tcJdlV2N1YL3YhravWgrrKuR2buD47w7VSsbuWqwCKEteurOtORxvbO4gQp1rf1YicOFp/0Q+kjytBgyLk9Q2YnrvOWooHw7dHkvIinpbr3W4J1NZmoaxHLUENGXdN48uBMlqDvsIgryrcwOcgjqBhDFRDt92ghMkpBmkpe1W1sfuSIIijB6fcNLNaxDkrgT3uXTxL7dYy2IlJSKfCa4ErcFtNsDRw7d5W6y1aORHy4w2Y3e5zta9jdssAeyGN2uDFBH3LB3Mvg0XcrjmIT8fihg6CUyLqZt1GMvPcusv8YodvORfcthvOwyvdpbNoi9FnQ+vWbI+tSrnzc2D2MorfVkNXeJ/qTkMTRSu+4tANxE4d0B5bcShMVLl4rhYMFrCyCijDbt7l0zbMhaSyPVP4cHSFXXzFoTgzCjNm+clNr7gm1qQVfOvhdXFmFCa3CCAoe1iBEbjy1CAwr+RZ/prJLD9vgi1KyasOx6WGQeqFz9wA+M5XcqahBtMwoi5IgiCOKJy1pdaedd3dRsANgOddeG25o7zVjoIqQNyZhO0HZ3sxQPDL/laEyVsaThUwJ7puTj9di2uIpwpYGUN4T+pVhwDAlb2qYPQCpzgELsvQ1cqvLMwXHJhPh+45cWsU5pvR+SVfcIP3O111mEy4ek7cMkLZBgHrsVWDqhvcHlGIGsosPtYilKf5+Dol4pJs71nwYvv8VZirNiZ7blXKQxINGIgq8v2puzU/cxzn732v9TBTUSGsiLAPcB+p2loRojF5MG04BP0nCILIDguqugxxpswFSRNN2VYhfCtyirJ37SZgtrXaMzssXcDygN3eCs8+8cTuDH+Y8a1tsz23VrVgT0dxotpgDy+CIAjiSaT2sFp3zbrL2nNFZ8m2CikeBH+IONI7wx9fcih8ZsIWZqG/XO7bMTzWpwpGN52+HvtDEARBHG5y51eg7YgQVSW8eEKLWrgOgm3V3YQVMrSZ8qGwrCVBrkOCIAiCIIiMINchQRAEQRBERpCiRRAEQRAEkRGkaBEEQRAEQWQEKVoEQRAEQRAZQYoWQRAEQRBERpCiRRAEQRAEkRGkaBEEQRAEQWQEKVoEQRAEQRAZQYoWQRAEQRBERpCiRRAEQRAEkRGkaBEEQRAEQWQEKVoEQRAEQRAZQYoWQRAEQRBERpCiRRAEQRAEkRGkaBEEQRAEQWQEKVoEQRAEQRAZQYoWQRAEQRBERpCiRRAEQRAEkRGkaBEEQRAEQWQEKVoEQRAEQRAZQYoWQRAEQRBERpCiRRAEQRAEkRGkaBEEQRAEQWQEKVoEQRAEQRAZQYoW0WcsqEIR+l4/61Nh9as6giAIguAgRSuJPR3FLiZna0lAca3W0yYdD2rQL0uorq6gMNivOvNQVquQLuugESEIgiD6DSlaRN+orc1CgYaV6Vxf681Nl2GOKJgl5ZcgCILoM00UrRr0ywIEIfqnVtoovaJyeaPuIt/qU1srdlZ2V8T75luvLKiCAGFYgQEGqUHb+Tbzaf51aREwZsTwniXeNubV4f+ltrSkGY9WZTfqt5d7SWgwXm4+tcLfE3P/NRlrv23aDKC9X0C9mhVrV0ReLequqG4/93QUE/O75F/XgBmNXIgEQRBEX2miaOVQ+MyB43h/mwxYMFEaT1nyno7iRBXajp9/FExytfkAABnnSURBVMpwdGI3ZkSI9+bgOA7sVRlspT/undraLJQRM+ybU0IeAJBHyXHg7GiQwWAG6eXQ1bWnQ8NKkNdeBZT33HbnpstwHAfmAiCv2mH58/mgbmtJQpVP+yxJ8Uii9Xg0L7sG/bLYoN+ukijd0WDz/YqNF5sQsHza9vpoQPnUCmTSaqxRMcGmJiEluAytJb5dNrQ7Up3rtWHdALCuQBy2MeeP3eJyvaI3KGFyisHsmzJPEARBEKldhxbUCcDkFIZW1L7ZAPhYnHEFWnyim9Jge2XmXp6EvG7DTlN2xKLUobVt0ezMujFYQIlzfbXTbh/DMLtUKBuPR8OyKxqUddZgDC1oMwbYbKiY5aZX6sdrwUTZ63v+HAPu2Kgh3VjX7CowIiYolRbMRb5dORRmWX0/GtTtIkPb8ZTGQQmTUwbsOotaDuIIULXJfUgQBEH0j1SKlrUkAZuh9SMN9j0j6j4TRCjr0XtkWQon3sECyk66OnzLUfwvrbUtN12GuRC6BtsLXI+5uYYVGG3kzs/b0KBA7MJd2mg8mpVds6vAlAixYakyxBYB6uwcV+N4KbCYpRlr+14DKe3ZqEbctAKECZa6bgBAxFLmWv6SngXxtAzjXjsqMUEQBEF0R2tFq6JCQhsuQ46I+6xNZagZvbBo5ef9NpkYnRFTK1vWkggFoYvNdTO2A+cC3NFQnWg/7q3xeDQuOyeOtig4bgWyYa83ureeVmMtnm4mJd5N265LNT32PQPy6caqJkEQBEH0muaK1p6OYpsuQ5/8OQZjZjaT/ZK6tWhFESFOxS4NihhFk3iewAVWg/5evUVLPC2ncw8OiqhXf3yLWUJAeTvjES97XAJbb7TyLg9pAZEYudraMtiUBiWFTNOMdU4cjbn7/Ha6sVNSQgB7b6nBvgOMiv1d8UgQBEE82TRfdfhefPVd8oquRMZLXlB041VuB0N85Z0biF2ObDmQR2mTgU3Ur3LLv65BXpSCvLZcb9HKTa9EXHihzGKrAgU3eD2dgthqPFqVnUfJs94ljUd+3oE5ErZZnBmFmdaqlGasPUVPq1Necyh85gbA89bJnu9DtmdiY51B6oFFlSAIgiDS8jPHcf5+0I0gngxqa0WIxiTsDNyCrbCW3FWL5T7v4UUQBEE82dCGpUTf8C19/d441N+6ot8bpRIEQRBEZ4oWvzlkwh8dP0Mkk0PhMxOjGcXuJWNBa8cNShAEQRA9hFyHBEEQBEEQGUGuQ4IgCIIgiIwgRYsgCIIgCCIjSNEiCIIgCILICFK0CIIgCIIgMoIULYIgCIIgiIwgRYsA4J0feVlvfWzQocaCmnR00RHmgfEGrg1dxfcH3ZA6tvDV0BA+Nx72ttg9HcUj/xweR2rQPxYgfFw/NrVbRQiqAHW7/fKKtzodaQuqKkBQBQhqEfp+h8UQMTy5Jowz0TmkaPUd9wigtg6S5rCWDuk+ZXs6ipkdsZRGZjXolyVUV1dQGMykEUQ/GCxgbkSBmPnZl08Q+zqK3sRZu1WEoB8H2eZRKjlwSibYQTeFIFrw84NuAEH0gtraLBRosI/j7u+vPo+Bg25DA37x/LM9LzM/b0O7LEKtdHpQPFHH0yJyAGoA5AGxgwJyKLzpoJCUcr4M53x3zSMOC64CWzroZhwzmh8qfbkIfY8/rDhmsYjvEM//Cg0sHFx+3yVQUSEs6d7hzkXoFa+cdlwGFZXbjT7mLqqobll8+/r2Czl+aHUoM2vJO8R6HdyB1VELVW2tmNgv/7q0CBj8wdCRfsUOlu7CBeO2lbciNSrbuz4cP/A6OibRfsUtX93JzN39HdDej+/+Hi833qcUHPBzdlL+BK/94RJORq4+ROWtN1C577rvrg0N1bsX71/H50HaEK6tbIVpt6/i2lvX8YC/x0+/fRXXVq6j8tYQrg29gcpt7563ruNBpA1jeGV3F6+81NPueuRQmGVgK+S+6A7P3beqwLAlCKoAccuAsSVCUN13rM7Cta+jqPrvn5df5f4iLqVeuu/8srhvw76OIl93WkvctgpB1722F6Fve+XwbW9Rtu8OFRrcY+l8Gt93V2bqNn9PVDbxskOXqyuDqAs26Voz+DHh+2xBVVXoXt3FW1Yon/2EdtXJukW/tlUIuhUpI+4WbiSz2q1inasy6dpRpoXr0IAyvAxxx4Hj2NCmGJaDCc6COqxgdNOB4zhwHBNsUYpNgAyS4Oc3wdYVaP4kt6jAnnVgLhhQJmzMOSbY+gbMNPE1ezqKE1VoO17dm6NQhmOT97oCcdjGnOPA2dEgLy73JXantjYLZcT0ZOLAcUrIe2n5eV+OAAvk5oQHHe/p0LASXLdXAeU992HLTZfhOA7MBUBetcPy5/NB3daShCqf1uGxM9aSAOmOBtsJLQqNy86j5MsYDGbQ73LowquoEGdGgzR7tQqJUwK7khkAVEywqUlIdS7DHAqfhXmcTQYsmOmtJIf4OQNuYDf/R/zC2sVru1sYevUD3AvipbbwVf5t/OL6Ll7b3cVruxsY+HAyGk/1xdv4c/4HnN7dxWvWR3jqwz+ict9L+/Bt/PS7Xbz4zg3sXvoBp3c3MPDFDdj3423IkHEp/feAaIBrhbLHZMhjNpySDe0EwC44cErhO9Yqv1Ny/+wxOZbeK/edBVWVUB2zuXZZUFcVjF7w6zfBbCl9TJetwP6lA1M0oNy0MVcywR5vwNxPUfa+jtktQJtx000RwAkNdsFtWe1WEdKPGuxALoCyGv0usJsClgdsL78BZdNL3VYhbo3C9PI6FxjYTV/pyEMSAXaXV3xtVMEgnU0pSd2Xo1f+m/wcwKA8moNzgcHYkgL5bNxx+507X24wzin6BQC2BPHRXNAvY0sLZNJMZrmRScjB2HhFPTIgD0vH5ti0ljFabNOfMHOQZBnGPRsAUFtbBpvSoASTVh6lTQbDMCNaaJg/D2kBqNpeKpdXXlVSvPQhtW82AD4WZ1yBNsVgRiwVMrQd76UdlDA5ZcBO8dGOWl46tIIsmp3FKg0WUOIUiNzLk5DXbdhtFBGXf7uYvpKVoKR1Wrb1JQPbDD/suem5+km0U5kBqNlVYERs8VJaUCcAcz79k5blc9YLBq5/gvHnAOBZiBcu4m/2LgDggfFHPHr1I7wYWJvG8Mr1d/G3m99wVqmLGLKu4AwAPPcyTr56Az/5ihSX96mrRfeeviNC7KMsnwxs2I9liIdq9jIDJat8PmxY7dYy2AkNSqBg5FG6wGDspPwGcXnlsej80qrs2p0NGCcmIZ3yUl9gwGP/O2xB2zLAfhl+H3PnV6CdYDB5q5NoBv3Jv8CAH23UUIP+LYu252wpouzkJzTIdvgtrN3ZAMbamx8by0iGNpGvk09bJPYLQZm+MoqzEhiqsD3FtqnMThUwx8kAsGDaDHPnD9WD2hXdBcO3nNwYJM56kJ+PWSI6xL5nRN1nnmspQsTC4Vo20lgyfMtR/C+tFSQ3XYa5ELrQ2gtcj7m6hhUYbeTOz9vQoEDsRDkEgHUFyiIgy/W/JDovuwb7TtTtJwhS5BdwdzJzn4dWWEsSsJnmV3y03Kyes8x54fmYuzHGqxchPuf/51mM/yErN2Cn5CCOcD/MiPbx3GOhu1ACgwFltZvVfr3F2FLAIGNyJGFeeLrV/NIFTcrOPTsKcBYW6y4DRIn7drRWVtkL3JfmbCliWRp9tknmUxImA6WtBnMHUdnEXZ5q1JKWL3jf6Tq3ZG9o1q/mNJdZ/gVOid42wSLyPvp0p2jdsaN+VbvaXWvaIOI+a1MZakYvLFquu8t1l47OiKkVB2tJdAO6/T7taGhsxE2Cc5XtaKhOtKlsTWmwdzRgRkzI113ZvNuvzrWIzmUGAOLpFlKqqJDQhsuQI6vnLHPu/hCJqXrww50Da0pnuAr66OEyvxwtThVQ5t2FM557v+RErEcHiTxmJ7reAEStJQBqD3s4vzQrOydC9hRSQRUg2QxmgZ/2DUT1fxv24/RVVx9Gaob9I5+agzQsu+7DfRMbCC1rALwxDd259S5gzt07o6F6s/fKVme0kNlZKXDtWndZVKE7BnSsaLluLS7mCha0GQNstrO4oHbIn2MwZmYziYXp1qIVRYQ4VVcDxBGAfdnAURZYCWvQ36u3aImn5XQuvEERowmX64Pc4/kKKG8ysIkm+1EllT0oYhRxtxrgu5zZRNqtH9qXWU4crVP6A/Z0FNt0Gfr05Dnzg+n7uF3ByfGLeOqLt/Hdbf/KFr67cgMDv4sH1WdHy+esJTbsdRkibdXRAzhrwgkRdWsOA6XDjV1qx4reC3LnyzBFBokLfnbjdhRoXKB43P3UcX0tyrY2FYCPc4ooM14c1bdcjGmdK7JhzZCG5UjsErY1KI+jbrLcyCTkH21YdzYw2k1/TyXPAf0njczykEQDds2C+WOHbs1DTOcWrcECyp5lw3cHVVft/vzaHy95gcnJK9UOjvgqNxHKiFnnLs3PuwsH4ivo8q9rkIPrImy53qKVm16JuPDCCTy2KrCb8RgvuYH4w37b0pTtxuiFLsJQUctNl90A+MRVi93JzG2vFF1oEeArqyxad1qlpxfP2bjnJm2kCGbBc5fwW+sj/HTJX3U4iZ+ubvXVNZg/5zqHO3b9NVzgQLQHZzmo2XVKVO78CudqWoZ4oQ0r+rbqua9Cl2Snqw9Dl5eX/1QBZc8i49dRHbNR8ifgbupuUXZ+QgO2xNiqw/C9zxccmE+H7jlxaxRmShda7nwZ9lgVkl/uzSq0mZhV6lQBc08rkLZGUwfBu8RWHMZl1pRwham4ZQDeKtVe7bmWRmb5CQ3VmxKqxygI3udnjuP8/aAbQRDdUlsrQjQmE4P4D5Ya9Muu8uh0YFU7suzpKHqrkttX9l2Z2bNHxE37hFC7VXRXlRWO93Ns6e7KOt69aukCJJjHvu9ENtDO8MSxwLf0zR6iXfPdeL8nTcnyLJQdK1lerOJIZzF1RFa47rXONjs9SsRjpgB3FVynG70SxGG0aHm/hBvFCcirdk9WLhLHEQuqsAxxp9z6GB56zg4nezqK7wErh84y+QSyr6PIx2yJT4hFJ95vuEH7h2UBAXH0OHyKFkEQBEEQxDGBXIcEQRAEQRAZQYoWQRAEQRBERpCiRRAEQRAEkRGkaBEEQRAEQWQEKVoEQRAEQRAZkbmi9dev/gWLb5zFf32fVQ3uvj1JR308MN7AtaGriFb9EJW3hvDV7fr7e8cWvhoawrW3rkfOmwOA71f83bqH8LnxMNv6V7bqUlyZZN3/GPev4/Mhv9/x8SA6p/Fzdlj5fiXL594l+b0nGmEtdXNUEkEQrTjEFq2/4mu1tYJ21DY3PDO7i9d2d/HiOwfdkja4fx2fD72Byn3/QmNFLpHnLuG3u7t4zfoIT2XVxiOIr/QGf0dIYeqUM9MfATe/Ofb9PErkX9dQbXa2KUEQXfHzrCt45pX/wMIrGRVeUSEtMphOk030Xn0eAxlV35gxvLK72/da09R/Uv4Er6U+zCyZ71cm8eidDbw2O9ZdQU8yt6/iz1dG8OLuJzjTcSEH/Zx1wHMv4yTG8N3tSziZ5dmLB/LeH1EGCyhv2hDe0yHRRrEE0XOaWLT+iq/Vf8HXj7bxX2+cxeIbZ7H4xoecOT60OH3/n376v+DrR346n4+/3rpst7xz+OovwPe/99PP4v9+9VeujBr0FQa2GTuQk+Ok/Ale+8MlnExM9awySe6s21cjloa4my1uieDTI2lpLT6pqHd5PjDe4Org+5NUP5/OW6fa5PZVfHf3I/wmpmQ1k0mr8q6tXEflLa9dtz03I2/dibge6+XKu2Pr3bIxuUSsRqFMwzKismncL7fcaD+TriXz/dcfAO/8qoGStYWvhq6i4tX9ubEVyud+QrvqnrPm/XpgvIHPjYcRuSX1I0lmD4w36ixvSdca8yzGf/cuHv0p6X6339/z492Bla/5e98ZtbUiims1WEvhAeNRd1vs4PXg0HSAD28I8/sWpBr0y0Xoa2pw4Ll/T3p3XrTuyIHrezqKggqLvyfSNo9xBRqSDmYnCKJbWrgOv8ZX//YnnPr3bSx8so1/nPgU//Wf25E7vv/9WXz13Jde+tf46v/56Wfxj59sY+GTTxtMJnzZX+KVf/gUX3mK1Jl/8q8BZ/7VrXvhk238n1eeCbPvmdhYZ5A6dBk+uvRH/MLaxWu7Wxh69QPc4yfmr3+F13ZdF99r19/Fo0ucInb/OipXRvCin767i1e4X+Yn5U/w2u4ufnP1YmcN6xjXuuG3qd416advdPFLfwtfXQJejE9igXWGl1kbytyHb+On3+3ixXduYPfSDzi9u4GBL27Avu/VmX8bv7ju920DAx9OhorU7av47sN3vbq3MPQqgHc28Fv5WbgKxyR+urrl5d3CEN7Gn2OKyaNLQ7gnbnlyu4Hdta0U/RrDqXeAR19zZd3/AT/hXZxKYak58+t3gQ8nmyjjH2DX/me8dv1d/O3KZCCfBxW332mes4b9AvC3K2NB2m+uXuQUn+YyOzl+EU8FY+PVY9/AUxdeTq/YvPQrbnzr+/1d/gec9sf6i7fxXT/jCZtgzIhYPm3DcRzYqzLYiq+w1KBfllBdddMcx4YGBeKSFcnPJoQgv7lgQPnUTzegGCLsHQ3yooTl07Zb/pcWWhOv28TojBhT0hgkYRnijpvO1pMUqhwkOW2dBEG0Q8sYrTP/+h/4tTcznxl9HfjhL+DtSpj4NFCAEtNTlf0Mzoz/Gn+930aQwJ4NY0pEp8d8Dlz/BOPPAcCzEC9cxN9s3wUzhld4a81Lv8IA7uB/IpPCB9g/JB///nEDu/lJ4PqVmOL8EJU/fYCnrhbD6y9diSgFLXn1I7zoKSeRcgA8MP6IR1w6MIZXrr+Lv3lxPlHLkDuWuPuDqzTcLmP3i3dxWn7Wy/ssxhc+wlMf/nfUghkoZp4CdPcHPEjRrzPT0bIeVG4AsfY35KUrgdKYvEjgIoamx+rk0xaJ/apPc5WnH/AIaC2z5y7hdGRst7D/IX9/Gsbw4lVEFL+Qixiy/GfMVWZ/+iHb4PnULJjB+Ze5lychr9uwAaCiQVlnmAvOxsyh8L4GedGE1SB//hwD7tiBZYnN+i47vpwU7JnYgIaVIE8eSoKSxjb98z/zkBaAql1/+HpOHI20iSCI3tB+MPxf/gL+s3dm9Cz3n3ewUJrEM3WZek/NrmZWdtQVNYmI1/O5S/jt9Xfx6NKTE8DschFD1z/CT5eSV3P94vl2Jto2eeH5htaSAfEiECg7D2HfjFlXUsTqDPyaV6yvRNxOTfv13Ms4+aqvdD+EfRM4Od6ewvFKYIH8AN9149JNoFm/mtJCZmd+HSq6uP3feNTQBdqYk+MX6xXeo0yKH33sHBfkMF6C04t4qD0bxroCkXMdijPxo9Kjlv/8vJN8YPqgGCqPBEH0jPYVrX/4B2Q4paYmJ45mUu4D4w3OFdXA1fbSldBF98Lb+POTomw9dwnjV+/gu4T+Rq0OD/E/d3tYL2+JAfDghzvBv08+PwLgA3w3NIRrQ2PYxUcY560rvqXG5/4P+FsbVTfvl2tBe/T1FnD/GzzARYjPtVE4x5nZDQzgBn7qoaLVMa1kxrn+vv/6g6hCl5bnLuH0O7zL/ogTV1D2bMTVncyY0mA7juc69P7mmywQakSXXgKCIJJpQ9Haxn/9/lM8M/7rvlisgGfwzPPA99Xt5OQsf31xv+i/X4lZtGIMiP2NxQom/ttX8ecrN/paN+DGBr34Ah/n5Ller5RD60Sd+6mL+sYv4qlInM4WvrtyAwO/u4STnntv4HoYmxax2rz0KwyAn8wT3IENSdevk+MX8dTdH/B95QZ+8bsuArBv/zce4SJ+0aGi1jNSyWwMp965gZ/ub2H/boduTcQsY/1iT0exUUB4p4xLYGBYDoLQ3YU68qrScKFOzxiXwNYVzK5135uaXQVGRFp1SBA9puX2Dt///iwWvX8/U/wyGpDeNOOHWPz9p+F//+0svsKv8cq/hzFfrTjzT5/izBuvY3Ezof5BCZNTIpbXlGQzeIeclP8ZA1cm8eehtwEAT139CAMIFZoHxhsxBeddvLjrT7APUXlrDLtf+Gk3cO1DAMFWCFv4KuKKHMO1K8BTV7eCeJnGuLEyn+fdPHj1I7x49SK+S6tp3r6Ka5c+CP77KD+EXVzEkOXHqqXnzOwG9ocmce3uR/jNHy7hpPwJfoM38OehIXwHAF65/sQcl9l3Qx/gO7yLF3fj8V4JPHcJv7WAz/NDuOZdeurqFn77EuCvYLt2KUwDALzqtQtjeGV3A18NeTID3LFIqQC26pffvtMvDOG7K+/ixdQ7LcSfk7DsdGPR6jnrhnQyOzP9Ee7lJ4GrW50rly8VMdSPrR54BiVMTgGG9yOtN1+OPEqOCVUQIcx4lxZMOD38LrVVNwC26bS5t2ANpmGAzZZ73UCCeOL5meM4f09O+iu+Vs9h/39v4x873+gnWyoqhAnAdBpv8fCk8v2Ku+KstQJ3lHEVjp9+x6/8dK89uHDc+35MuH0V1/70vKcY9wdrSYB0R4NNe0aFVFQIKyLJhCAy4BDvDJ+C8RLMBQZpiZYkR7h/Hfc+zDhA/VCwi5++iF26/w0efPEk9P2Y0E6QfrdU3L2qSMmKsaejOFGF9j7JhCCy4GhbtAC4+8iIsGfbNZUfM2KuwXTuyGNArN8AMHA9urcZQRxNLKiCBNYoecHsLOg9XsuSAPPcE/79JIgMaaJoEQRBEARBEN1wtF2HBEEQBEEQhxhStAiCIAiCIDKCFC2CIAiCIIiMIEWLIAiCIAgiI0jRIgiCIAiCyAhStAiCIAiCIDKCFC2CIAiCIIiMIEWLIAiCIAgiI0jRIgiCIAiCyIj/D9CoFeg0jkcKAAAAAElFTkSuQmCC)"
      ],
      "metadata": {
        "id": "ENcLIDp-SvpA"
      }
    },
    {
      "cell_type": "code",
      "metadata": {
        "id": "TrT_J5GWGo7s",
        "colab": {
          "base_uri": "https://localhost:8080/",
          "height": 379
        },
        "outputId": "f3707996-2de1-4946-853b-60d455cfab8b"
      },
      "source": [
        "#Type Your Code Here\n",
        "y_predtrain = lin_reg.predict(X_train)\n",
        "err = y_predtrain - Y_train\n",
        "sns.distplot(err)\n",
        "\n",
        "z_er = stats.zscore(err)\n",
        "norm_er = stats.kstest(z_er, 'norm', )\n",
        "print('hasil uji Kolmogorov Smirnov \\n ', norm_er)\n"
      ],
      "execution_count": null,
      "outputs": [
        {
          "output_type": "stream",
          "name": "stderr",
          "text": [
            "/usr/local/lib/python3.7/dist-packages/seaborn/distributions.py:2619: FutureWarning: `distplot` is a deprecated function and will be removed in a future version. Please adapt your code to use either `displot` (a figure-level function with similar flexibility) or `histplot` (an axes-level function for histograms).\n",
            "  warnings.warn(msg, FutureWarning)\n"
          ]
        },
        {
          "output_type": "stream",
          "name": "stdout",
          "text": [
            "hasil uji Kolmogorov Smirnov \n",
            "  KstestResult(statistic=0.12495970531173806, pvalue=0.528936822420008)\n"
          ]
        },
        {
          "output_type": "display_data",
          "data": {
            "text/plain": [
              "<Figure size 432x288 with 1 Axes>"
            ],
            "image/png": "[encoded data removed]"
          },
          "metadata": {
            "needs_background": "light"
          }
        }
      ]
    },
    {
      "cell_type": "markdown",
      "metadata": {
        "id": "8fM0llnL4ARf"
      },
      "source": [
        "Ho : data = berdistribusi normal\n",
        "\n",
        "Ha : data tidak berdistribusi normal\n",
        "\n",
        "Karena pvaiue > 0.05, maka Ho diterima. Gambar histogram yang membentuk lonceng dan puncaknya cenderung ke tengah pun mendukung bahwa datanya sudah berdistribusi normal."
      ]
    },
    {
      "cell_type": "markdown",
      "metadata": {
        "id": "sYlbS7mCU_gT"
      },
      "source": [
        "## 3. Tidak terjadi Heteroskedastisitas\n",
        "\n",
        "Homoskedastisitas  adalah  kondisi ketika  nilai  residu/error  pada  tiap  nilai  prediksi  bervariasi  dan  variasinya  cenderung konstan. Lawan dari homoskedastisitas adalah heteroskedastisitas, dimana error cenderung berubah dan malah berkorelasi dengan prediksinya. Jika ini terjadi tentu menunjukkan bahwa prediksi ini memiliki suatu bias tertentu. Untuk mengeceknya kita bisa melihat plotnya"
      ]
    },
    {
      "cell_type": "code",
      "metadata": {
        "id": "zFn7Jir3N8C-",
        "colab": {
          "base_uri": "https://localhost:8080/",
          "height": 184
        },
        "outputId": "d37ea16a-7d95-4ae2-f7b1-aee5fd36cfae"
      },
      "source": [
        "fig, ax = plt.subplots(figsize=(6,2.5))\n",
        "_ = ax.scatter(y_predtrain, err)"
      ],
      "execution_count": null,
      "outputs": [
        {
          "output_type": "display_data",
          "data": {
            "text/plain": [
              "<Figure size 432x180 with 1 Axes>"
            ],
            "image/png": "[encoded data removed]"
          },
          "metadata": {
            "needs_background": "light"
          }
        }
      ]
    },
    {
      "cell_type": "markdown",
      "metadata": {
        "id": "UuVWKszc6Y75"
      },
      "source": [
        "Terlihat plot errornya berada di sekitar angka yang sama meski nilai prediksinya bertambah, artinya nilai prediksi kita tidak terganggu oleh errornya"
      ]
    },
    {
      "cell_type": "markdown",
      "metadata": {
        "id": "9_ePrSAXdGMn"
      },
      "source": [
        "Berikut adalah contoh plot jika terjadi heteroskedastisitas, plotnya membentuk pola tertentu yang menunjukkan bahwa nilai prediksinya masih berkorelasi dengan error sehingga nilai prediksi kita masih terganggu oleh nilai errornya:\n",
        "\n",
        "![alt text](https://drive.google.com/uc?id=1VX4X3w95lBlTphDXg9Ez2Rv9Ky3tUz8e)\n",
        "\n",
        "Cara lain untuk menguji homoskedastisitas: using Glejser Test, White test, Breusch-Pagan test"
      ]
    },
    {
      "cell_type": "markdown",
      "metadata": {
        "id": "z6ocXT48VR_N"
      },
      "source": [
        "## 4. Tidak terjadi multikolinearitas (regresi berganda)\n",
        "Multokolinearitas maksudnya adalah hubungan yang kuat antar feature. Regresi linier mengasumsikan bahwa feature-featurenya tidak saling berhubungan. Tentu saja ini hanya berlaku untuk regresi linier berganda (yang featurenya lebih dari 1). Salah 1 cara mengujinya adalah nilai VIF."
      ]
    },
    {
      "cell_type": "code",
      "metadata": {
        "id": "c2UKr6rJBDM5",
        "colab": {
          "base_uri": "https://localhost:8080/",
          "height": 81
        },
        "outputId": "b36f174c-fd80-4632-ccd2-dbe7be494202"
      },
      "source": [
        "vif = [variance_inflation_factor(X_train, i) for i in range(len(X_train.T))]\n",
        "pd.DataFrame({'VIF': vif[0:]}, index=features).T"
      ],
      "execution_count": null,
      "outputs": [
        {
          "output_type": "execute_result",
          "data": {
            "text/plain": [
              "     R&D Spend  Marketing Spend\n",
              "VIF   6.637335         6.637335"
            ],
            "text/html": [
              "\n",
              "  <div id=\"df-37e2b54d-a6d7-47e2-984a-8d5ec33547c4\">\n",
              "    <div class=\"colab-df-container\">\n",
              "      <div>\n",
              "<style scoped>\n",
              "    .dataframe tbody tr th:only-of-type {\n",
              "        vertical-align: middle;\n",
              "    }\n",
              "\n",
              "    .dataframe tbody tr th {\n",
              "        vertical-align: top;\n",
              "    }\n",
              "\n",
              "    .dataframe thead th {\n",
              "        text-align: right;\n",
              "    }\n",
              "</style>\n",
              "<table border=\"1\" class=\"dataframe\">\n",
              "  <thead>\n",
              "    <tr style=\"text-align: right;\">\n",
              "      <th></th>\n",
              "      <th>R&amp;D Spend</th>\n",
              "      <th>Marketing Spend</th>\n",
              "    </tr>\n",
              "  </thead>\n",
              "  <tbody>\n",
              "    <tr>\n",
              "      <th>VIF</th>\n",
              "      <td>6.637335</td>\n",
              "      <td>6.637335</td>\n",
              "    </tr>\n",
              "  </tbody>\n",
              "</table>\n",
              "</div>\n",
              "      <button class=\"colab-df-convert\" onclick=\"convertToInteractive('df-37e2b54d-a6d7-47e2-984a-8d5ec33547c4')\"\n",
              "              title=\"Convert this dataframe to an interactive table.\"\n",
              "              style=\"display:none;\">\n",
              "        \n",
              "  <svg xmlns=\"http://www.w3.org/2000/svg\" height=\"24px\"viewBox=\"0 0 24 24\"\n",
              "       width=\"24px\">\n",
              "    <path d=\"M0 0h24v24H0V0z\" fill=\"none\"/>\n",
              "    <path d=\"M18.56 5.44l.94 2.06.94-2.06 2.06-.94-2.06-.94-.94-2.06-.94 2.06-2.06.94zm-11 1L8.5 8.5l.94-2.06 2.06-.94-2.06-.94L8.5 2.5l-.94 2.06-2.06.94zm10 10l.94 2.06.94-2.06 2.06-.94-2.06-.94-.94-2.06-.94 2.06-2.06.94z\"/><path d=\"M17.41 7.96l-1.37-1.37c-.4-.4-.92-.59-1.43-.59-.52 0-1.04.2-1.43.59L10.3 9.45l-7.72 7.72c-.78.78-.78 2.05 0 2.83L4 21.41c.39.39.9.59 1.41.59.51 0 1.02-.2 1.41-.59l7.78-7.78 2.81-2.81c.8-.78.8-2.07 0-2.86zM5.41 20L4 18.59l7.72-7.72 1.47 1.35L5.41 20z\"/>\n",
              "  </svg>\n",
              "      </button>\n",
              "      \n",
              "  <style>\n",
              "    .colab-df-container {\n",
              "      display:flex;\n",
              "      flex-wrap:wrap;\n",
              "      gap: 12px;\n",
              "    }\n",
              "\n",
              "    .colab-df-convert {\n",
              "      background-color: #E8F0FE;\n",
              "      border: none;\n",
              "      border-radius: 50%;\n",
              "      cursor: pointer;\n",
              "      display: none;\n",
              "      fill: #1967D2;\n",
              "      height: 32px;\n",
              "      padding: 0 0 0 0;\n",
              "      width: 32px;\n",
              "    }\n",
              "\n",
              "    .colab-df-convert:hover {\n",
              "      background-color: #E2EBFA;\n",
              "      box-shadow: 0px 1px 2px rgba(60, 64, 67, 0.3), 0px 1px 3px 1px rgba(60, 64, 67, 0.15);\n",
              "      fill: #174EA6;\n",
              "    }\n",
              "\n",
              "    [theme=dark] .colab-df-convert {\n",
              "      background-color: #3B4455;\n",
              "      fill: #D2E3FC;\n",
              "    }\n",
              "\n",
              "    [theme=dark] .colab-df-convert:hover {\n",
              "      background-color: #434B5C;\n",
              "      box-shadow: 0px 1px 3px 1px rgba(0, 0, 0, 0.15);\n",
              "      filter: drop-shadow(0px 1px 2px rgba(0, 0, 0, 0.3));\n",
              "      fill: #FFFFFF;\n",
              "    }\n",
              "  </style>\n",
              "\n",
              "      <script>\n",
              "        const buttonEl =\n",
              "          document.querySelector('#df-37e2b54d-a6d7-47e2-984a-8d5ec33547c4 button.colab-df-convert');\n",
              "        buttonEl.style.display =\n",
              "          google.colab.kernel.accessAllowed ? 'block' : 'none';\n",
              "\n",
              "        async function convertToInteractive(key) {\n",
              "          const element = document.querySelector('#df-37e2b54d-a6d7-47e2-984a-8d5ec33547c4');\n",
              "          const dataTable =\n",
              "            await google.colab.kernel.invokeFunction('convertToInteractive',\n",
              "                                                     [key], {});\n",
              "          if (!dataTable) return;\n",
              "\n",
              "          const docLinkHtml = 'Like what you see? Visit the ' +\n",
              "            '<a target=\"_blank\" href=https://colab.research.google.com/notebooks/data_table.ipynb>data table notebook</a>'\n",
              "            + ' to learn more about interactive tables.';\n",
              "          element.innerHTML = '';\n",
              "          dataTable['output_type'] = 'display_data';\n",
              "          await google.colab.output.renderOutput(dataTable, element);\n",
              "          const docLink = document.createElement('div');\n",
              "          docLink.innerHTML = docLinkHtml;\n",
              "          element.appendChild(docLink);\n",
              "        }\n",
              "      </script>\n",
              "    </div>\n",
              "  </div>\n",
              "  "
            ]
          },
          "metadata": {},
          "execution_count": 16
        }
      ]
    },
    {
      "cell_type": "markdown",
      "metadata": {
        "id": "74-4ewBQrUiY"
      },
      "source": [
        "Some papers argue that a VIF<10 is acceptable, but others says that the limit value is 5.\n",
        "- \"10\" as the maximum level of VIF (Hair et al., 1995)\n",
        "- \"5\" as the maximum level of VIF (Ringle et al., 2015)\n"
      ]
    },
    {
      "cell_type": "markdown",
      "metadata": {
        "id": "PsADkcTsropD"
      },
      "source": [
        "Jadi berdasarkab kriteria Hair tidak terjadi kolinearitas, tetapi kalo berdasarkan kriteria Ringle masih terjadi kolinearitas. Disini kita menggunakan teori Hair."
      ]
    },
    {
      "cell_type": "markdown",
      "metadata": {
        "id": "oi9ITfxDVZ1m"
      },
      "source": [
        "## 5. Tidak terjadi autokorelasi\n",
        "Autokorelasi adalah hubungan yang erat antar entry, misalnya antara data ke 4 dengan ke 5, data ke-6 dengan ke-7, dll. Ini juga harus dihindari dalam regresi linier. Uji ini tersedia di library yang lain, sehingga kita perlu training model lagi menggunakan library itu."
      ]
    },
    {
      "cell_type": "code",
      "metadata": {
        "id": "bo2k_9XORW3p",
        "colab": {
          "base_uri": "https://localhost:8080/",
          "height": 508
        },
        "outputId": "1d3e0ff7-0130-4af8-8117-051152211b08"
      },
      "source": [
        "X_constant = sm.add_constant(X_train)                #Ingat lagi x1 = R&D, x2 =  Marketing\n",
        "linreg = sm.OLS(Y_train,X_constant).fit()\n",
        "linreg.summary()"
      ],
      "execution_count": null,
      "outputs": [
        {
          "output_type": "execute_result",
          "data": {
            "text/plain": [
              "<class 'statsmodels.iolib.summary.Summary'>\n",
              "\"\"\"\n",
              "                            OLS Regression Results                            \n",
              "==============================================================================\n",
              "Dep. Variable:                 Profit   R-squared:                       0.957\n",
              "Model:                            OLS   Adj. R-squared:                  0.954\n",
              "Method:                 Least Squares   F-statistic:                     408.7\n",
              "Date:                Sat, 16 Apr 2022   Prob (F-statistic):           5.97e-26\n",
              "Time:                        12:11:10   Log-Likelihood:                -421.18\n",
              "No. Observations:                  40   AIC:                             848.4\n",
              "Df Residuals:                      37   BIC:                             853.4\n",
              "Df Model:                           2                                         \n",
              "Covariance Type:            nonrobust                                         \n",
              "==============================================================================\n",
              "                 coef    std err          t      P>|t|      [0.025      0.975]\n",
              "------------------------------------------------------------------------------\n",
              "const       4.639e+04   2887.411     16.068      0.000    4.05e+04    5.22e+04\n",
              "x1             0.8251      0.045     18.249      0.000       0.733       0.917\n",
              "x2             0.0236      0.017      1.378      0.176      -0.011       0.058\n",
              "==============================================================================\n",
              "Omnibus:                       13.108   Durbin-Watson:                   2.147\n",
              "Prob(Omnibus):                  0.001   Jarque-Bera (JB):               16.774\n",
              "Skew:                          -0.964   Prob(JB):                     0.000228\n",
              "Kurtosis:                       5.520   Cond. No.                     4.98e+05\n",
              "==============================================================================\n",
              "\n",
              "Warnings:\n",
              "[1] Standard Errors assume that the covariance matrix of the errors is correctly specified.\n",
              "[2] The condition number is large, 4.98e+05. This might indicate that there are\n",
              "strong multicollinearity or other numerical problems.\n",
              "\"\"\""
            ],
            "text/html": [
              "<table class=\"simpletable\">\n",
              "<caption>OLS Regression Results</caption>\n",
              "<tr>\n",
              "  <th>Dep. Variable:</th>         <td>Profit</td>      <th>  R-squared:         </th> <td>   0.957</td>\n",
              "</tr>\n",
              "<tr>\n",
              "  <th>Model:</th>                   <td>OLS</td>       <th>  Adj. R-squared:    </th> <td>   0.954</td>\n",
              "</tr>\n",
              "<tr>\n",
              "  <th>Method:</th>             <td>Least Squares</td>  <th>  F-statistic:       </th> <td>   408.7</td>\n",
              "</tr>\n",
              "<tr>\n",
              "  <th>Date:</th>             <td>Sat, 16 Apr 2022</td> <th>  Prob (F-statistic):</th> <td>5.97e-26</td>\n",
              "</tr>\n",
              "<tr>\n",
              "  <th>Time:</th>                 <td>12:11:10</td>     <th>  Log-Likelihood:    </th> <td> -421.18</td>\n",
              "</tr>\n",
              "<tr>\n",
              "  <th>No. Observations:</th>      <td>    40</td>      <th>  AIC:               </th> <td>   848.4</td>\n",
              "</tr>\n",
              "<tr>\n",
              "  <th>Df Residuals:</th>          <td>    37</td>      <th>  BIC:               </th> <td>   853.4</td>\n",
              "</tr>\n",
              "<tr>\n",
              "  <th>Df Model:</th>              <td>     2</td>      <th>                     </th>     <td> </td>   \n",
              "</tr>\n",
              "<tr>\n",
              "  <th>Covariance Type:</th>      <td>nonrobust</td>    <th>                     </th>     <td> </td>   \n",
              "</tr>\n",
              "</table>\n",
              "<table class=\"simpletable\">\n",
              "<tr>\n",
              "    <td></td>       <th>coef</th>     <th>std err</th>      <th>t</th>      <th>P>|t|</th>  <th>[0.025</th>    <th>0.975]</th>  \n",
              "</tr>\n",
              "<tr>\n",
              "  <th>const</th> <td> 4.639e+04</td> <td> 2887.411</td> <td>   16.068</td> <td> 0.000</td> <td> 4.05e+04</td> <td> 5.22e+04</td>\n",
              "</tr>\n",
              "<tr>\n",
              "  <th>x1</th>    <td>    0.8251</td> <td>    0.045</td> <td>   18.249</td> <td> 0.000</td> <td>    0.733</td> <td>    0.917</td>\n",
              "</tr>\n",
              "<tr>\n",
              "  <th>x2</th>    <td>    0.0236</td> <td>    0.017</td> <td>    1.378</td> <td> 0.176</td> <td>   -0.011</td> <td>    0.058</td>\n",
              "</tr>\n",
              "</table>\n",
              "<table class=\"simpletable\">\n",
              "<tr>\n",
              "  <th>Omnibus:</th>       <td>13.108</td> <th>  Durbin-Watson:     </th> <td>   2.147</td>\n",
              "</tr>\n",
              "<tr>\n",
              "  <th>Prob(Omnibus):</th> <td> 0.001</td> <th>  Jarque-Bera (JB):  </th> <td>  16.774</td>\n",
              "</tr>\n",
              "<tr>\n",
              "  <th>Skew:</th>          <td>-0.964</td> <th>  Prob(JB):          </th> <td>0.000228</td>\n",
              "</tr>\n",
              "<tr>\n",
              "  <th>Kurtosis:</th>      <td> 5.520</td> <th>  Cond. No.          </th> <td>4.98e+05</td>\n",
              "</tr>\n",
              "</table><br/><br/>Warnings:<br/>[1] Standard Errors assume that the covariance matrix of the errors is correctly specified.<br/>[2] The condition number is large, 4.98e+05. This might indicate that there are<br/>strong multicollinearity or other numerical problems."
            ]
          },
          "metadata": {},
          "execution_count": 17
        }
      ]
    },
    {
      "cell_type": "code",
      "source": [
        "reglin"
      ],
      "metadata": {
        "colab": {
          "base_uri": "https://localhost:8080/",
          "height": 1000
        },
        "id": "3cbqSctpSar6",
        "outputId": "a21001e5-b81d-4542-9fb3-5633d913e0d7"
      },
      "execution_count": null,
      "outputs": [
        {
          "output_type": "execute_result",
          "data": {
            "text/plain": [
              "    R&D Spend  Administration  Marketing Spend       State     Profit\n",
              "0   165349.20       136897.80        471784.10    New York  192261.83\n",
              "1   162597.70       151377.59        443898.53  California  191792.06\n",
              "2   153441.51       101145.55        407934.54     Florida  191050.39\n",
              "3   144372.41       118671.85        383199.62    New York  182901.99\n",
              "4   142107.34        91391.77        366168.42     Florida  166187.94\n",
              "5   131876.90        99814.71        362861.36    New York  156991.12\n",
              "6   134615.46       147198.87        127716.82  California  156122.51\n",
              "7   130298.13       145530.06        323876.68     Florida  155752.60\n",
              "8   120542.52       148718.95        311613.29    New York  152211.77\n",
              "9   123334.88       108679.17        304981.62  California  149759.96\n",
              "10  101913.08       110594.11        229160.95     Florida  146121.95\n",
              "11  100671.96        91790.61        249744.55  California  144259.40\n",
              "12   93863.75       127320.38        249839.44     Florida  141585.52\n",
              "13   91992.39       135495.07        252664.93  California  134307.35\n",
              "14  119943.24       156547.42        256512.92     Florida  132602.65\n",
              "15  114523.61       122616.84        261776.23    New York  129917.04\n",
              "16   78013.11       121597.55        264346.06  California  126992.93\n",
              "17   94657.16       145077.58        282574.31    New York  125370.37\n",
              "18   91749.16       114175.79        294919.57     Florida  124266.90\n",
              "19   86419.70       153514.11             0.00    New York  122776.86\n",
              "20   76253.86       113867.30        298664.47  California  118474.03\n",
              "21   78389.47       153773.43        299737.29    New York  111313.02\n",
              "22   73994.56       122782.75        303319.26     Florida  110352.25\n",
              "23   67532.53       105751.03        304768.73     Florida  108733.99\n",
              "24   77044.01        99281.34        140574.81    New York  108552.04\n",
              "25   64664.71       139553.16        137962.62  California  107404.34\n",
              "26   75328.87       144135.98        134050.07     Florida  105733.54\n",
              "27   72107.60       127864.55        353183.81    New York  105008.31\n",
              "28   66051.52       182645.56        118148.20     Florida  103282.38\n",
              "29   65605.48       153032.06        107138.38    New York  101004.64\n",
              "30   61994.48       115641.28         91131.24     Florida   99937.59\n",
              "31   61136.38       152701.92         88218.23    New York   97483.56\n",
              "32   63408.86       129219.61         46085.25  California   97427.84\n",
              "33   55493.95       103057.49        214634.81     Florida   96778.92\n",
              "34   46426.07       157693.92        210797.67  California   96712.80\n",
              "35   46014.02        85047.44        205517.64    New York   96479.51\n",
              "36   28663.76       127056.21        201126.82     Florida   90708.19\n",
              "37   44069.95        51283.14        197029.42  California   89949.14\n",
              "38   20229.59        65947.93        185265.10    New York   81229.06\n",
              "39   38558.51        82982.09        174999.30  California   81005.76\n",
              "40   28754.33       118546.05        172795.67  California   78239.91\n",
              "41   27892.92        84710.77        164470.71     Florida   77798.83\n",
              "42   23640.93        96189.63        148001.11  California   71498.49\n",
              "43   15505.73       127382.30         35534.17    New York   69758.98\n",
              "44   22177.74       154806.14         28334.72  California   65200.33\n",
              "45    1000.23       124153.04          1903.93    New York   64926.08\n",
              "46    1315.46       115816.21        297114.46     Florida   49490.75\n",
              "47       0.00       135426.92             0.00  California   42559.73\n",
              "48     542.05        51743.15             0.00    New York   35673.41\n",
              "49       0.00       116983.80         45173.06  California   14681.40"
            ],
            "text/html": [
              "\n",
              "  <div id=\"df-df34511c-cf30-4d19-86de-8fc8dc6e1615\">\n",
              "    <div class=\"colab-df-container\">\n",
              "      <div>\n",
              "<style scoped>\n",
              "    .dataframe tbody tr th:only-of-type {\n",
              "        vertical-align: middle;\n",
              "    }\n",
              "\n",
              "    .dataframe tbody tr th {\n",
              "        vertical-align: top;\n",
              "    }\n",
              "\n",
              "    .dataframe thead th {\n",
              "        text-align: right;\n",
              "    }\n",
              "</style>\n",
              "<table border=\"1\" class=\"dataframe\">\n",
              "  <thead>\n",
              "    <tr style=\"text-align: right;\">\n",
              "      <th></th>\n",
              "      <th>R&amp;D Spend</th>\n",
              "      <th>Administration</th>\n",
              "      <th>Marketing Spend</th>\n",
              "      <th>State</th>\n",
              "      <th>Profit</th>\n",
              "    </tr>\n",
              "  </thead>\n",
              "  <tbody>\n",
              "    <tr>\n",
              "      <th>0</th>\n",
              "      <td>165349.20</td>\n",
              "      <td>136897.80</td>\n",
              "      <td>471784.10</td>\n",
              "      <td>New York</td>\n",
              "      <td>192261.83</td>\n",
              "    </tr>\n",
              "    <tr>\n",
              "      <th>1</th>\n",
              "      <td>162597.70</td>\n",
              "      <td>151377.59</td>\n",
              "      <td>443898.53</td>\n",
              "      <td>California</td>\n",
              "      <td>191792.06</td>\n",
              "    </tr>\n",
              "    <tr>\n",
              "      <th>2</th>\n",
              "      <td>153441.51</td>\n",
              "      <td>101145.55</td>\n",
              "      <td>407934.54</td>\n",
              "      <td>Florida</td>\n",
              "      <td>191050.39</td>\n",
              "    </tr>\n",
              "    <tr>\n",
              "      <th>3</th>\n",
              "      <td>144372.41</td>\n",
              "      <td>118671.85</td>\n",
              "      <td>383199.62</td>\n",
              "      <td>New York</td>\n",
              "      <td>182901.99</td>\n",
              "    </tr>\n",
              "    <tr>\n",
              "      <th>4</th>\n",
              "      <td>142107.34</td>\n",
              "      <td>91391.77</td>\n",
              "      <td>366168.42</td>\n",
              "      <td>Florida</td>\n",
              "      <td>166187.94</td>\n",
              "    </tr>\n",
              "    <tr>\n",
              "      <th>5</th>\n",
              "      <td>131876.90</td>\n",
              "      <td>99814.71</td>\n",
              "      <td>362861.36</td>\n",
              "      <td>New York</td>\n",
              "      <td>156991.12</td>\n",
              "    </tr>\n",
              "    <tr>\n",
              "      <th>6</th>\n",
              "      <td>134615.46</td>\n",
              "      <td>147198.87</td>\n",
              "      <td>127716.82</td>\n",
              "      <td>California</td>\n",
              "      <td>156122.51</td>\n",
              "    </tr>\n",
              "    <tr>\n",
              "      <th>7</th>\n",
              "      <td>130298.13</td>\n",
              "      <td>145530.06</td>\n",
              "      <td>323876.68</td>\n",
              "      <td>Florida</td>\n",
              "      <td>155752.60</td>\n",
              "    </tr>\n",
              "    <tr>\n",
              "      <th>8</th>\n",
              "      <td>120542.52</td>\n",
              "      <td>148718.95</td>\n",
              "      <td>311613.29</td>\n",
              "      <td>New York</td>\n",
              "      <td>152211.77</td>\n",
              "    </tr>\n",
              "    <tr>\n",
              "      <th>9</th>\n",
              "      <td>123334.88</td>\n",
              "      <td>108679.17</td>\n",
              "      <td>304981.62</td>\n",
              "      <td>California</td>\n",
              "      <td>149759.96</td>\n",
              "    </tr>\n",
              "    <tr>\n",
              "      <th>10</th>\n",
              "      <td>101913.08</td>\n",
              "      <td>110594.11</td>\n",
              "      <td>229160.95</td>\n",
              "      <td>Florida</td>\n",
              "      <td>146121.95</td>\n",
              "    </tr>\n",
              "    <tr>\n",
              "      <th>11</th>\n",
              "      <td>100671.96</td>\n",
              "      <td>91790.61</td>\n",
              "      <td>249744.55</td>\n",
              "      <td>California</td>\n",
              "      <td>144259.40</td>\n",
              "    </tr>\n",
              "    <tr>\n",
              "      <th>12</th>\n",
              "      <td>93863.75</td>\n",
              "      <td>127320.38</td>\n",
              "      <td>249839.44</td>\n",
              "      <td>Florida</td>\n",
              "      <td>141585.52</td>\n",
              "    </tr>\n",
              "    <tr>\n",
              "      <th>13</th>\n",
              "      <td>91992.39</td>\n",
              "      <td>135495.07</td>\n",
              "      <td>252664.93</td>\n",
              "      <td>California</td>\n",
              "      <td>134307.35</td>\n",
              "    </tr>\n",
              "    <tr>\n",
              "      <th>14</th>\n",
              "      <td>119943.24</td>\n",
              "      <td>156547.42</td>\n",
              "      <td>256512.92</td>\n",
              "      <td>Florida</td>\n",
              "      <td>132602.65</td>\n",
              "    </tr>\n",
              "    <tr>\n",
              "      <th>15</th>\n",
              "      <td>114523.61</td>\n",
              "      <td>122616.84</td>\n",
              "      <td>261776.23</td>\n",
              "      <td>New York</td>\n",
              "      <td>129917.04</td>\n",
              "    </tr>\n",
              "    <tr>\n",
              "      <th>16</th>\n",
              "      <td>78013.11</td>\n",
              "      <td>121597.55</td>\n",
              "      <td>264346.06</td>\n",
              "      <td>California</td>\n",
              "      <td>126992.93</td>\n",
              "    </tr>\n",
              "    <tr>\n",
              "      <th>17</th>\n",
              "      <td>94657.16</td>\n",
              "      <td>145077.58</td>\n",
              "      <td>282574.31</td>\n",
              "      <td>New York</td>\n",
              "      <td>125370.37</td>\n",
              "    </tr>\n",
              "    <tr>\n",
              "      <th>18</th>\n",
              "      <td>91749.16</td>\n",
              "      <td>114175.79</td>\n",
              "      <td>294919.57</td>\n",
              "      <td>Florida</td>\n",
              "      <td>124266.90</td>\n",
              "    </tr>\n",
              "    <tr>\n",
              "      <th>19</th>\n",
              "      <td>86419.70</td>\n",
              "      <td>153514.11</td>\n",
              "      <td>0.00</td>\n",
              "      <td>New York</td>\n",
              "      <td>122776.86</td>\n",
              "    </tr>\n",
              "    <tr>\n",
              "      <th>20</th>\n",
              "      <td>76253.86</td>\n",
              "      <td>113867.30</td>\n",
              "      <td>298664.47</td>\n",
              "      <td>California</td>\n",
              "      <td>118474.03</td>\n",
              "    </tr>\n",
              "    <tr>\n",
              "      <th>21</th>\n",
              "      <td>78389.47</td>\n",
              "      <td>153773.43</td>\n",
              "      <td>299737.29</td>\n",
              "      <td>New York</td>\n",
              "      <td>111313.02</td>\n",
              "    </tr>\n",
              "    <tr>\n",
              "      <th>22</th>\n",
              "      <td>73994.56</td>\n",
              "      <td>122782.75</td>\n",
              "      <td>303319.26</td>\n",
              "      <td>Florida</td>\n",
              "      <td>110352.25</td>\n",
              "    </tr>\n",
              "    <tr>\n",
              "      <th>23</th>\n",
              "      <td>67532.53</td>\n",
              "      <td>105751.03</td>\n",
              "      <td>304768.73</td>\n",
              "      <td>Florida</td>\n",
              "      <td>108733.99</td>\n",
              "    </tr>\n",
              "    <tr>\n",
              "      <th>24</th>\n",
              "      <td>77044.01</td>\n",
              "      <td>99281.34</td>\n",
              "      <td>140574.81</td>\n",
              "      <td>New York</td>\n",
              "      <td>108552.04</td>\n",
              "    </tr>\n",
              "    <tr>\n",
              "      <th>25</th>\n",
              "      <td>64664.71</td>\n",
              "      <td>139553.16</td>\n",
              "      <td>137962.62</td>\n",
              "      <td>California</td>\n",
              "      <td>107404.34</td>\n",
              "    </tr>\n",
              "    <tr>\n",
              "      <th>26</th>\n",
              "      <td>75328.87</td>\n",
              "      <td>144135.98</td>\n",
              "      <td>134050.07</td>\n",
              "      <td>Florida</td>\n",
              "      <td>105733.54</td>\n",
              "    </tr>\n",
              "    <tr>\n",
              "      <th>27</th>\n",
              "      <td>72107.60</td>\n",
              "      <td>127864.55</td>\n",
              "      <td>353183.81</td>\n",
              "      <td>New York</td>\n",
              "      <td>105008.31</td>\n",
              "    </tr>\n",
              "    <tr>\n",
              "      <th>28</th>\n",
              "      <td>66051.52</td>\n",
              "      <td>182645.56</td>\n",
              "      <td>118148.20</td>\n",
              "      <td>Florida</td>\n",
              "      <td>103282.38</td>\n",
              "    </tr>\n",
              "    <tr>\n",
              "      <th>29</th>\n",
              "      <td>65605.48</td>\n",
              "      <td>153032.06</td>\n",
              "      <td>107138.38</td>\n",
              "      <td>New York</td>\n",
              "      <td>101004.64</td>\n",
              "    </tr>\n",
              "    <tr>\n",
              "      <th>30</th>\n",
              "      <td>61994.48</td>\n",
              "      <td>115641.28</td>\n",
              "      <td>91131.24</td>\n",
              "      <td>Florida</td>\n",
              "      <td>99937.59</td>\n",
              "    </tr>\n",
              "    <tr>\n",
              "      <th>31</th>\n",
              "      <td>61136.38</td>\n",
              "      <td>152701.92</td>\n",
              "      <td>88218.23</td>\n",
              "      <td>New York</td>\n",
              "      <td>97483.56</td>\n",
              "    </tr>\n",
              "    <tr>\n",
              "      <th>32</th>\n",
              "      <td>63408.86</td>\n",
              "      <td>129219.61</td>\n",
              "      <td>46085.25</td>\n",
              "      <td>California</td>\n",
              "      <td>97427.84</td>\n",
              "    </tr>\n",
              "    <tr>\n",
              "      <th>33</th>\n",
              "      <td>55493.95</td>\n",
              "      <td>103057.49</td>\n",
              "      <td>214634.81</td>\n",
              "      <td>Florida</td>\n",
              "      <td>96778.92</td>\n",
              "    </tr>\n",
              "    <tr>\n",
              "      <th>34</th>\n",
              "      <td>46426.07</td>\n",
              "      <td>157693.92</td>\n",
              "      <td>210797.67</td>\n",
              "      <td>California</td>\n",
              "      <td>96712.80</td>\n",
              "    </tr>\n",
              "    <tr>\n",
              "      <th>35</th>\n",
              "      <td>46014.02</td>\n",
              "      <td>85047.44</td>\n",
              "      <td>205517.64</td>\n",
              "      <td>New York</td>\n",
              "      <td>96479.51</td>\n",
              "    </tr>\n",
              "    <tr>\n",
              "      <th>36</th>\n",
              "      <td>28663.76</td>\n",
              "      <td>127056.21</td>\n",
              "      <td>201126.82</td>\n",
              "      <td>Florida</td>\n",
              "      <td>90708.19</td>\n",
              "    </tr>\n",
              "    <tr>\n",
              "      <th>37</th>\n",
              "      <td>44069.95</td>\n",
              "      <td>51283.14</td>\n",
              "      <td>197029.42</td>\n",
              "      <td>California</td>\n",
              "      <td>89949.14</td>\n",
              "    </tr>\n",
              "    <tr>\n",
              "      <th>38</th>\n",
              "      <td>20229.59</td>\n",
              "      <td>65947.93</td>\n",
              "      <td>185265.10</td>\n",
              "      <td>New York</td>\n",
              "      <td>81229.06</td>\n",
              "    </tr>\n",
              "    <tr>\n",
              "      <th>39</th>\n",
              "      <td>38558.51</td>\n",
              "      <td>82982.09</td>\n",
              "      <td>174999.30</td>\n",
              "      <td>California</td>\n",
              "      <td>81005.76</td>\n",
              "    </tr>\n",
              "    <tr>\n",
              "      <th>40</th>\n",
              "      <td>28754.33</td>\n",
              "      <td>118546.05</td>\n",
              "      <td>172795.67</td>\n",
              "      <td>California</td>\n",
              "      <td>78239.91</td>\n",
              "    </tr>\n",
              "    <tr>\n",
              "      <th>41</th>\n",
              "      <td>27892.92</td>\n",
              "      <td>84710.77</td>\n",
              "      <td>164470.71</td>\n",
              "      <td>Florida</td>\n",
              "      <td>77798.83</td>\n",
              "    </tr>\n",
              "    <tr>\n",
              "      <th>42</th>\n",
              "      <td>23640.93</td>\n",
              "      <td>96189.63</td>\n",
              "      <td>148001.11</td>\n",
              "      <td>California</td>\n",
              "      <td>71498.49</td>\n",
              "    </tr>\n",
              "    <tr>\n",
              "      <th>43</th>\n",
              "      <td>15505.73</td>\n",
              "      <td>127382.30</td>\n",
              "      <td>35534.17</td>\n",
              "      <td>New York</td>\n",
              "      <td>69758.98</td>\n",
              "    </tr>\n",
              "    <tr>\n",
              "      <th>44</th>\n",
              "      <td>22177.74</td>\n",
              "      <td>154806.14</td>\n",
              "      <td>28334.72</td>\n",
              "      <td>California</td>\n",
              "      <td>65200.33</td>\n",
              "    </tr>\n",
              "    <tr>\n",
              "      <th>45</th>\n",
              "      <td>1000.23</td>\n",
              "      <td>124153.04</td>\n",
              "      <td>1903.93</td>\n",
              "      <td>New York</td>\n",
              "      <td>64926.08</td>\n",
              "    </tr>\n",
              "    <tr>\n",
              "      <th>46</th>\n",
              "      <td>1315.46</td>\n",
              "      <td>115816.21</td>\n",
              "      <td>297114.46</td>\n",
              "      <td>Florida</td>\n",
              "      <td>49490.75</td>\n",
              "    </tr>\n",
              "    <tr>\n",
              "      <th>47</th>\n",
              "      <td>0.00</td>\n",
              "      <td>135426.92</td>\n",
              "      <td>0.00</td>\n",
              "      <td>California</td>\n",
              "      <td>42559.73</td>\n",
              "    </tr>\n",
              "    <tr>\n",
              "      <th>48</th>\n",
              "      <td>542.05</td>\n",
              "      <td>51743.15</td>\n",
              "      <td>0.00</td>\n",
              "      <td>New York</td>\n",
              "      <td>35673.41</td>\n",
              "    </tr>\n",
              "    <tr>\n",
              "      <th>49</th>\n",
              "      <td>0.00</td>\n",
              "      <td>116983.80</td>\n",
              "      <td>45173.06</td>\n",
              "      <td>California</td>\n",
              "      <td>14681.40</td>\n",
              "    </tr>\n",
              "  </tbody>\n",
              "</table>\n",
              "</div>\n",
              "      <button class=\"colab-df-convert\" onclick=\"convertToInteractive('df-df34511c-cf30-4d19-86de-8fc8dc6e1615')\"\n",
              "              title=\"Convert this dataframe to an interactive table.\"\n",
              "              style=\"display:none;\">\n",
              "        \n",
              "  <svg xmlns=\"http://www.w3.org/2000/svg\" height=\"24px\"viewBox=\"0 0 24 24\"\n",
              "       width=\"24px\">\n",
              "    <path d=\"M0 0h24v24H0V0z\" fill=\"none\"/>\n",
              "    <path d=\"M18.56 5.44l.94 2.06.94-2.06 2.06-.94-2.06-.94-.94-2.06-.94 2.06-2.06.94zm-11 1L8.5 8.5l.94-2.06 2.06-.94-2.06-.94L8.5 2.5l-.94 2.06-2.06.94zm10 10l.94 2.06.94-2.06 2.06-.94-2.06-.94-.94-2.06-.94 2.06-2.06.94z\"/><path d=\"M17.41 7.96l-1.37-1.37c-.4-.4-.92-.59-1.43-.59-.52 0-1.04.2-1.43.59L10.3 9.45l-7.72 7.72c-.78.78-.78 2.05 0 2.83L4 21.41c.39.39.9.59 1.41.59.51 0 1.02-.2 1.41-.59l7.78-7.78 2.81-2.81c.8-.78.8-2.07 0-2.86zM5.41 20L4 18.59l7.72-7.72 1.47 1.35L5.41 20z\"/>\n",
              "  </svg>\n",
              "      </button>\n",
              "      \n",
              "  <style>\n",
              "    .colab-df-container {\n",
              "      display:flex;\n",
              "      flex-wrap:wrap;\n",
              "      gap: 12px;\n",
              "    }\n",
              "\n",
              "    .colab-df-convert {\n",
              "      background-color: #E8F0FE;\n",
              "      border: none;\n",
              "      border-radius: 50%;\n",
              "      cursor: pointer;\n",
              "      display: none;\n",
              "      fill: #1967D2;\n",
              "      height: 32px;\n",
              "      padding: 0 0 0 0;\n",
              "      width: 32px;\n",
              "    }\n",
              "\n",
              "    .colab-df-convert:hover {\n",
              "      background-color: #E2EBFA;\n",
              "      box-shadow: 0px 1px 2px rgba(60, 64, 67, 0.3), 0px 1px 3px 1px rgba(60, 64, 67, 0.15);\n",
              "      fill: #174EA6;\n",
              "    }\n",
              "\n",
              "    [theme=dark] .colab-df-convert {\n",
              "      background-color: #3B4455;\n",
              "      fill: #D2E3FC;\n",
              "    }\n",
              "\n",
              "    [theme=dark] .colab-df-convert:hover {\n",
              "      background-color: #434B5C;\n",
              "      box-shadow: 0px 1px 3px 1px rgba(0, 0, 0, 0.15);\n",
              "      filter: drop-shadow(0px 1px 2px rgba(0, 0, 0, 0.3));\n",
              "      fill: #FFFFFF;\n",
              "    }\n",
              "  </style>\n",
              "\n",
              "      <script>\n",
              "        const buttonEl =\n",
              "          document.querySelector('#df-df34511c-cf30-4d19-86de-8fc8dc6e1615 button.colab-df-convert');\n",
              "        buttonEl.style.display =\n",
              "          google.colab.kernel.accessAllowed ? 'block' : 'none';\n",
              "\n",
              "        async function convertToInteractive(key) {\n",
              "          const element = document.querySelector('#df-df34511c-cf30-4d19-86de-8fc8dc6e1615');\n",
              "          const dataTable =\n",
              "            await google.colab.kernel.invokeFunction('convertToInteractive',\n",
              "                                                     [key], {});\n",
              "          if (!dataTable) return;\n",
              "\n",
              "          const docLinkHtml = 'Like what you see? Visit the ' +\n",
              "            '<a target=\"_blank\" href=https://colab.research.google.com/notebooks/data_table.ipynb>data table notebook</a>'\n",
              "            + ' to learn more about interactive tables.';\n",
              "          element.innerHTML = '';\n",
              "          dataTable['output_type'] = 'display_data';\n",
              "          await google.colab.output.renderOutput(dataTable, element);\n",
              "          const docLink = document.createElement('div');\n",
              "          docLink.innerHTML = docLinkHtml;\n",
              "          element.appendChild(docLink);\n",
              "        }\n",
              "      </script>\n",
              "    </div>\n",
              "  </div>\n",
              "  "
            ]
          },
          "metadata": {},
          "execution_count": 18
        }
      ]
    },
    {
      "cell_type": "markdown",
      "metadata": {
        "id": "Ut2QwFWYtbPe"
      },
      "source": [
        "![alt text](https://drive.google.com/uc?id=1iz2TAjhoquwj6nztVU9poi79-8-Bkda_)\n"
      ]
    },
    {
      "cell_type": "markdown",
      "metadata": {
        "id": "7WcEayuNu98A"
      },
      "source": [
        "Download DW table: https://www3.nd.edu/~wevans1/econ30331/Durbin_Watson_tables.pdf. Karena nilai dw = 2.147 berada diantara nilai du = 1.628 dan 4-du = 2.372, maka disini tidak ada masalah autokorelasi"
      ]
    },
    {
      "cell_type": "markdown",
      "source": [
        "# Mengevaluasi hasil regresi linier"
      ],
      "metadata": {
        "id": "eTI58X7zaNWs"
      }
    },
    {
      "cell_type": "markdown",
      "source": [
        "## Tugas 4 :    evaluasi model"
      ],
      "metadata": {
        "id": "ZoVd__m7Veyq"
      }
    },
    {
      "cell_type": "markdown",
      "source": [
        "## MSE, RMSE, dan MAE\n",
        "\n",
        "Berikut caranya :     \n",
        "\n",
        "![image.png](data:image/png;base64,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)"
      ],
      "metadata": {
        "id": "hQd9zkuEaiu3"
      }
    },
    {
      "cell_type": "code",
      "source": [
        "#Type Your Code Here\n",
        "y_predtest = lin_reg.predict(X_test)\n",
        "\n",
        "MSE_train = mean_squared_error(Y_train, y_predtrain)\n",
        "print('Nilai MSE data training =', MSE_train)\n",
        "MSE_test = mean_squared_error(Y_test, y_predtest)\n",
        "print('Nilai MSE data testing =', MSE_test)\n",
        "\n",
        "RMSE_train = np.sqrt(MSE_train)\n",
        "print('Nilai RMSE data training =', RMSE_train)\n",
        "RMSE_test = np.sqrt(MSE_test)\n",
        "print('Nilai RMSE data testing =', RMSE_test)\n",
        "\n",
        "MAE_train = mean_absolute_error(Y_train, y_predtrain)\n",
        "print('Nilai MAE data training =', MAE_train)\n",
        "MAE_test = mean_absolute_error(Y_test, y_predtest)\n",
        "print('Nilai MAE data testing =', MAE_test)"
      ],
      "metadata": {
        "colab": {
          "base_uri": "https://localhost:8080/"
        },
        "id": "tx-cZCTRaK-d",
        "outputId": "974f78d4-556a-498c-99f1-d48be9ecfe81"
      },
      "execution_count": null,
      "outputs": [
        {
          "output_type": "stream",
          "name": "stdout",
          "text": [
            "Nilai MSE data training = 81897487.02005282\n",
            "Nilai MSE data testing = 71176114.65887138\n",
            "Nilai RMSE data training = 9049.72303554384\n",
            "Nilai RMSE data testing = 8436.593782971382\n",
            "Nilai MAE data training = 6843.0077696397175\n",
            "Nilai MAE data testing = 5771.48200353918\n"
          ]
        }
      ]
    },
    {
      "cell_type": "markdown",
      "source": [
        "Untuk mengetahui apakah nilai ini cukup bagus atau tidak, kita perlu membuat model regresi yang lain lalu membandingkan MSE, RMSE, dan MAE-nya. Model terbaik adalah yang MSE, RMSE, dan MAE-nya paling kecil"
      ],
      "metadata": {
        "id": "8RltAMStfVWL"
      }
    },
    {
      "cell_type": "markdown",
      "source": [
        "## Tugas 5 :    Visualisasi Prediksi\n",
        "\n",
        "![image.png](data:image/png;base64,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)"
      ],
      "metadata": {
        "id": "w8CvZ_bvXjn9"
      }
    },
    {
      "cell_type": "code",
      "source": [
        "#Type Your Code Here\n",
        "plt.plot(y_predtest)\n",
        "plt.plot(Y_test.values)\n",
        "\n",
        "plt.title('Prediction vs Real Data')\n",
        "\n",
        "plt.ylabel(\"Profit\")\n",
        "\n",
        "plt.legend(labels=['Prediction', \"Real\"], loc='lower right')\n"
      ],
      "metadata": {
        "colab": {
          "base_uri": "https://localhost:8080/",
          "height": 298
        },
        "id": "57l04IMP58pa",
        "outputId": "75fd3cfd-7f7e-4c06-c8e1-9301c930cfa2"
      },
      "execution_count": null,
      "outputs": [
        {
          "output_type": "execute_result",
          "data": {
            "text/plain": [
              "<matplotlib.legend.Legend at 0x7fbdb4a64ed0>"
            ]
          },
          "metadata": {},
          "execution_count": 20
        },
        {
          "output_type": "display_data",
          "data": {
            "text/plain": [
              "<Figure size 432x288 with 1 Axes>"
            ],
            "image/png": "[encoded data removed]"
          },
          "metadata": {
            "needs_background": "light"
          }
        }
      ]
    },
    {
      "cell_type": "markdown",
      "source": [
        "Terlihat bahwa nilai prediksi dan data testing juga cukup dekat"
      ],
      "metadata": {
        "id": "ooQg7Zef6hJg"
      }
    },
    {
      "cell_type": "markdown",
      "source": [
        "## Koefisien Determinasi (R2)"
      ],
      "metadata": {
        "id": "vnn6aOSsfx-U"
      }
    },
    {
      "cell_type": "code",
      "source": [
        "print(f'R^2 score: {lin_reg.score(X, Y)}')"
      ],
      "metadata": {
        "colab": {
          "base_uri": "https://localhost:8080/"
        },
        "id": "NO2gmuwtmktt",
        "outputId": "1bdfbcc9-3cf0-47d0-9b0d-be7cf780ca37"
      },
      "execution_count": null,
      "outputs": [
        {
          "output_type": "stream",
          "name": "stdout",
          "text": [
            "R^2 score: 0.9499067945573266\n"
          ]
        }
      ]
    },
    {
      "cell_type": "markdown",
      "source": [
        "Terlihat nilai R2 = 0.9499, ini merupakan nilai yang sangat bagus, ini menunjukkan 94.99% dari profit dapat diprediksi oleh R&D spend dan Marketing Spend. Sisanya (5.01%) dipengaruhi faktor lain yang tidak ada di model ini"
      ],
      "metadata": {
        "id": "q24fgNofgEIi"
      }
    },
    {
      "cell_type": "markdown",
      "source": [
        "## Uji Simultan, Parsial, dan besar pengaruh feature"
      ],
      "metadata": {
        "id": "TZ5aoZ_MnFvk"
      }
    },
    {
      "cell_type": "code",
      "source": [
        "linreg.summary()                   #Ingat lagi x1 = R&D, x2 =  Marketing"
      ],
      "metadata": {
        "colab": {
          "base_uri": "https://localhost:8080/",
          "height": 508
        },
        "id": "XJztZcxdnNxb",
        "outputId": "af32c14b-a60a-492c-b990-0fe2d2801b83"
      },
      "execution_count": null,
      "outputs": [
        {
          "output_type": "execute_result",
          "data": {
            "text/plain": [
              "<class 'statsmodels.iolib.summary.Summary'>\n",
              "\"\"\"\n",
              "                            OLS Regression Results                            \n",
              "==============================================================================\n",
              "Dep. Variable:                 Profit   R-squared:                       0.957\n",
              "Model:                            OLS   Adj. R-squared:                  0.954\n",
              "Method:                 Least Squares   F-statistic:                     408.7\n",
              "Date:                Sat, 16 Apr 2022   Prob (F-statistic):           5.97e-26\n",
              "Time:                        12:14:10   Log-Likelihood:                -421.18\n",
              "No. Observations:                  40   AIC:                             848.4\n",
              "Df Residuals:                      37   BIC:                             853.4\n",
              "Df Model:                           2                                         \n",
              "Covariance Type:            nonrobust                                         \n",
              "==============================================================================\n",
              "                 coef    std err          t      P>|t|      [0.025      0.975]\n",
              "------------------------------------------------------------------------------\n",
              "const       4.639e+04   2887.411     16.068      0.000    4.05e+04    5.22e+04\n",
              "x1             0.8251      0.045     18.249      0.000       0.733       0.917\n",
              "x2             0.0236      0.017      1.378      0.176      -0.011       0.058\n",
              "==============================================================================\n",
              "Omnibus:                       13.108   Durbin-Watson:                   2.147\n",
              "Prob(Omnibus):                  0.001   Jarque-Bera (JB):               16.774\n",
              "Skew:                          -0.964   Prob(JB):                     0.000228\n",
              "Kurtosis:                       5.520   Cond. No.                     4.98e+05\n",
              "==============================================================================\n",
              "\n",
              "Warnings:\n",
              "[1] Standard Errors assume that the covariance matrix of the errors is correctly specified.\n",
              "[2] The condition number is large, 4.98e+05. This might indicate that there are\n",
              "strong multicollinearity or other numerical problems.\n",
              "\"\"\""
            ],
            "text/html": [
              "<table class=\"simpletable\">\n",
              "<caption>OLS Regression Results</caption>\n",
              "<tr>\n",
              "  <th>Dep. Variable:</th>         <td>Profit</td>      <th>  R-squared:         </th> <td>   0.957</td>\n",
              "</tr>\n",
              "<tr>\n",
              "  <th>Model:</th>                   <td>OLS</td>       <th>  Adj. R-squared:    </th> <td>   0.954</td>\n",
              "</tr>\n",
              "<tr>\n",
              "  <th>Method:</th>             <td>Least Squares</td>  <th>  F-statistic:       </th> <td>   408.7</td>\n",
              "</tr>\n",
              "<tr>\n",
              "  <th>Date:</th>             <td>Sat, 16 Apr 2022</td> <th>  Prob (F-statistic):</th> <td>5.97e-26</td>\n",
              "</tr>\n",
              "<tr>\n",
              "  <th>Time:</th>                 <td>12:14:10</td>     <th>  Log-Likelihood:    </th> <td> -421.18</td>\n",
              "</tr>\n",
              "<tr>\n",
              "  <th>No. Observations:</th>      <td>    40</td>      <th>  AIC:               </th> <td>   848.4</td>\n",
              "</tr>\n",
              "<tr>\n",
              "  <th>Df Residuals:</th>          <td>    37</td>      <th>  BIC:               </th> <td>   853.4</td>\n",
              "</tr>\n",
              "<tr>\n",
              "  <th>Df Model:</th>              <td>     2</td>      <th>                     </th>     <td> </td>   \n",
              "</tr>\n",
              "<tr>\n",
              "  <th>Covariance Type:</th>      <td>nonrobust</td>    <th>                     </th>     <td> </td>   \n",
              "</tr>\n",
              "</table>\n",
              "<table class=\"simpletable\">\n",
              "<tr>\n",
              "    <td></td>       <th>coef</th>     <th>std err</th>      <th>t</th>      <th>P>|t|</th>  <th>[0.025</th>    <th>0.975]</th>  \n",
              "</tr>\n",
              "<tr>\n",
              "  <th>const</th> <td> 4.639e+04</td> <td> 2887.411</td> <td>   16.068</td> <td> 0.000</td> <td> 4.05e+04</td> <td> 5.22e+04</td>\n",
              "</tr>\n",
              "<tr>\n",
              "  <th>x1</th>    <td>    0.8251</td> <td>    0.045</td> <td>   18.249</td> <td> 0.000</td> <td>    0.733</td> <td>    0.917</td>\n",
              "</tr>\n",
              "<tr>\n",
              "  <th>x2</th>    <td>    0.0236</td> <td>    0.017</td> <td>    1.378</td> <td> 0.176</td> <td>   -0.011</td> <td>    0.058</td>\n",
              "</tr>\n",
              "</table>\n",
              "<table class=\"simpletable\">\n",
              "<tr>\n",
              "  <th>Omnibus:</th>       <td>13.108</td> <th>  Durbin-Watson:     </th> <td>   2.147</td>\n",
              "</tr>\n",
              "<tr>\n",
              "  <th>Prob(Omnibus):</th> <td> 0.001</td> <th>  Jarque-Bera (JB):  </th> <td>  16.774</td>\n",
              "</tr>\n",
              "<tr>\n",
              "  <th>Skew:</th>          <td>-0.964</td> <th>  Prob(JB):          </th> <td>0.000228</td>\n",
              "</tr>\n",
              "<tr>\n",
              "  <th>Kurtosis:</th>      <td> 5.520</td> <th>  Cond. No.          </th> <td>4.98e+05</td>\n",
              "</tr>\n",
              "</table><br/><br/>Warnings:<br/>[1] Standard Errors assume that the covariance matrix of the errors is correctly specified.<br/>[2] The condition number is large, 4.98e+05. This might indicate that there are<br/>strong multicollinearity or other numerical problems."
            ]
          },
          "metadata": {},
          "execution_count": 22
        }
      ]
    },
    {
      "cell_type": "markdown",
      "source": [
        "1.   Uji Simultan\n",
        "> Terlihat nilai p-value uji-F (Prob (F-statistic)) adalah\t5.97 x 10^-26 < 0.05, artinya secara bersama-sama R&D spend dan Marketing spend berpengaruh signifikan terhadap profit\n",
        "\n",
        "\n",
        "\n",
        "\n",
        "2.   Uji Parsial\n",
        "> Terlihat nilai p-value uji-T (P>|t|) untuk R&D adalah 0.000 < 0.05 dan untuk Marketing 0.176, artinya secara sendiri-sendiri R&D memberi pengaruh yang signifikan terhadap profit, sementara pengaruh dari Marketing tidak signifikan\n",
        "\n",
        "\n",
        "\n",
        "\n",
        "3. Besar pengaruh feature\n",
        "> Perhatikan kolom \"coef\", pada x1 (R&D) nilainya 0.8251, artinya setiap kenaikan perusahaan menaikkan kinerja R&D 1 level saja mampu meningkatkan profit perusahaan sebesar 0.8251. Sementara koefisien x2 (marketing) sebesar 0.0236. Artinya selama ini pengaruh marketing terhadap profit hanya 0.0236.\n"
      ],
      "metadata": {
        "id": "ppjHWOZlnt8E"
      }
    },
    {
      "cell_type": "markdown",
      "source": [
        "# Siang"
      ],
      "metadata": {
        "id": "yVRKvH9COpgk"
      }
    },
    {
      "cell_type": "markdown",
      "source": [
        "# Model Regresi lainnya\n",
        "\n",
        "Disini kita akan mencoba regresi Lasso, Ridge, Support Vector Regression, dan Decision Tree Regression"
      ],
      "metadata": {
        "id": "EkZq7kLjn3IK"
      }
    },
    {
      "cell_type": "markdown",
      "source": [
        "## Training Model"
      ],
      "metadata": {
        "id": "j5KgoGAbsTgi"
      }
    },
    {
      "cell_type": "markdown",
      "source": [
        "## Tugas 6   : Training 4 model\n",
        "\n",
        "![image.png](data:image/png;base64,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)"
      ],
      "metadata": {
        "id": "Dtg9zSE_W8h3"
      }
    },
    {
      "cell_type": "code",
      "source": [
        "Lasso_reg = Lasso(alpha=0.1).fit(X_train, Y_train)\n",
        "y_predtrain_lasso = Lasso_reg.predict(X_train)\n",
        "y_predtest_lasso = Lasso_reg.predict(X_test)"
      ],
      "metadata": {
        "id": "h-_yUVrfpzdr"
      },
      "execution_count": null,
      "outputs": []
    },
    {
      "cell_type": "code",
      "source": [
        "Ridge_reg = Ridge(alpha=0.1).fit(X_train, Y_train)\n",
        "y_predtrain_ridge = Ridge_reg.predict(X_train)\n",
        "y_predtest_ridge = Ridge_reg.predict(X_test)"
      ],
      "metadata": {
        "id": "UJ3AYBLyS_2W"
      },
      "execution_count": null,
      "outputs": []
    },
    {
      "cell_type": "code",
      "source": [
        "Sup_reg = SVR().fit(X_train, Y_train)\n",
        "y_predtrain_svr = Sup_reg.predict(X_train)\n",
        "y_predtest_svr = Sup_reg.predict(X_test)"
      ],
      "metadata": {
        "id": "Gp2GI11OTCNm"
      },
      "execution_count": null,
      "outputs": []
    },
    {
      "cell_type": "code",
      "source": [
        "Dt_reg = DecisionTreeRegressor().fit(X_train, Y_train)\n",
        "y_predtrain_dtr = Dt_reg.predict(X_train)\n",
        "y_predtest_dtr = Dt_reg.predict(X_test)"
      ],
      "metadata": {
        "id": "51VK49v4TFHZ"
      },
      "execution_count": null,
      "outputs": []
    },
    {
      "cell_type": "markdown",
      "source": [
        "## Evaluasi Model"
      ],
      "metadata": {
        "id": "srs9hNBHsaD7"
      }
    },
    {
      "cell_type": "code",
      "source": [
        "#MSE\n",
        "print('Nilai MSE data training Regresi Linier = ', mean_squared_error(Y_train, y_predtrain))\n",
        "print('Nilai MSE data testing Regresi Linier = ', mean_squared_error(Y_test, y_predtest), '\\n')\n",
        "\n",
        "print('Nilai MSE data training Regresi Lasso = ', mean_squared_error(Y_train, y_predtrain_lasso))\n",
        "print('Nilai MSE data testing Regresi Lasso = ', mean_squared_error(Y_test, y_predtest_lasso), '\\n')\n",
        "\n",
        "print('Nilai MSE data training Regresi Ridge = ', mean_squared_error(Y_train, y_predtrain_ridge))\n",
        "print('Nilai MSE data testing Regresi Ridge = ', mean_squared_error(Y_test, y_predtest_ridge), '\\n')\n",
        "\n",
        "print('Nilai MSE data training Regresi SVR = ', mean_squared_error(Y_train, y_predtrain_svr))\n",
        "print('Nilai MSE data testing Regresi SVR = ', mean_squared_error(Y_test, y_predtest_svr), '\\n')\n",
        "\n",
        "print('Nilai MSE data training Regresi DTR = ', mean_squared_error(Y_train, y_predtrain_dtr))\n",
        "print('Nilai MSE data testing Regresi DTR = ', mean_squared_error(Y_test, y_predtest_dtr))"
      ],
      "metadata": {
        "colab": {
          "base_uri": "https://localhost:8080/"
        },
        "id": "dj-ygPCqr3T_",
        "outputId": "33e591b3-e759-4ab5-f98d-61690075625f"
      },
      "execution_count": null,
      "outputs": [
        {
          "output_type": "stream",
          "name": "stdout",
          "text": [
            "Nilai MSE data training Regresi Linier =  81897487.02005282\n",
            "Nilai MSE data testing Regresi Linier =  71176114.65887138 \n",
            "\n",
            "Nilai MSE data training Regresi Lasso =  81897487.02005287\n",
            "Nilai MSE data testing Regresi Lasso =  71176114.68561623 \n",
            "\n",
            "Nilai MSE data training Regresi Ridge =  81897487.02005291\n",
            "Nilai MSE data testing Regresi Ridge =  71176114.65834258 \n",
            "\n",
            "Nilai MSE data training Regresi SVR =  1907156471.8562305\n",
            "Nilai MSE data testing Regresi SVR =  477718017.4120663 \n",
            "\n",
            "Nilai MSE data training Regresi DTR =  0.0\n",
            "Nilai MSE data testing Regresi DTR =  109051743.66904995\n"
          ]
        }
      ]
    },
    {
      "cell_type": "markdown",
      "source": [
        "## Tugas 7 \n",
        "Cari Nilai R2 dengan cara ini :     \n",
        "![image.png](data:image/png;base64,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)"
      ],
      "metadata": {
        "id": "aOtIQHJ_Y0dX"
      }
    },
    {
      "cell_type": "code",
      "source": [
        "\n",
        "#Nilai R2\n",
        "print(f'R^2 score Regresi Linier: {lin_reg.score(X, Y)}')\n",
        "print(f'R^2 score Regresi Lasso: {Lasso_reg.score(X, Y)}')\n",
        "print(f'R^2 score Regresi Ridge: {Ridge_reg.score(X, Y)}')\n",
        "print(f'R^2 score Regresi SVR: {Sup_reg.score(X, Y)}')\n",
        "print(f'R^2 score Regresi DT: {Dt_reg.score(X, Y)}')"
      ],
      "metadata": {
        "colab": {
          "base_uri": "https://localhost:8080/"
        },
        "id": "IfgagcAmME1J",
        "outputId": "964b75ad-dfb4-48a8-dd5a-2283583eecdb"
      },
      "execution_count": null,
      "outputs": [
        {
          "output_type": "stream",
          "name": "stdout",
          "text": [
            "R^2 score Regresi Linier: 0.9499067945573266\n",
            "R^2 score Regresi Lasso: 0.949906794553967\n",
            "R^2 score Regresi Ridge: 0.949906794557393\n",
            "R^2 score Regresi SVR: -0.01832324402104457\n",
            "R^2 score Regresi DT: 0.9863008618086193\n"
          ]
        }
      ]
    },
    {
      "cell_type": "markdown",
      "source": [
        "\n",
        "*   Model regresi Support Vector Regression memiliki MSE yang terlalu tinggi dibandingkan model regresi lainnya dan R2 yang sangat rendah, sehingga kemungkinan pada model ini terjadi underfitting\n",
        "*   Model regresi Decision Tree Regression R2 paling bagus, mMSE data training 0 (sangat kecil), sementara MSE data testing jauh diatasnya, ini menunjukkan pada model ini terjadi overfitting\n",
        "*   Model regresi linier, regresi Lasso, dan regresi Ridge memiliki MSE yang tidak jauh antara testing dan trainingnya. Nilai R2nya pun sangat bagus, hampir 95%. Ini menunjukkan model ini sudah good fit"
      ],
      "metadata": {
        "id": "-LTNcv--y4Rg"
      }
    },
    {
      "cell_type": "markdown",
      "source": [
        "# Tugas 8 (diskusi kelompok)\n",
        "\n",
        "Buat model regresi dari data berikut : https://www.sheffield.ac.uk/polopoly_fs/1.937192!/file/Crime_R.csv\n",
        "\n",
        "Pilih labelnya CrimeRate, lalu untuk feature pilih minimal 3 (boleh semuanya) yang berhubungan erat dengan CrimeRate, lakukan :      \n",
        "1. Analisis Korelasi\n",
        "2. Bikin beberapa model regresi\n",
        "3. Hitung MSE training dan testing tiap model dan R2nya, menurutmu, mana model terbaik?\n",
        "4. Lakukan visualisasi data untuk melihat perbandingan hasil data testing dan prediksi model yang kamu pilih\n"
      ],
      "metadata": {
        "id": "AoYyq0W07_VD"
      }
    },
    {
      "cell_type": "code",
      "source": [
        "#Save Data to DataFrame\n",
        "#Type Your Code here"
      ],
      "metadata": {
        "id": "rWhfVP0wWKOg"
      },
      "execution_count": null,
      "outputs": []
    },
    {
      "cell_type": "markdown",
      "source": [
        "## 1. Korelasi"
      ],
      "metadata": {
        "id": "WKDZ4A3_9fZa"
      }
    },
    {
      "cell_type": "code",
      "source": [
        "#Type Your Code Here"
      ],
      "metadata": {
        "id": "CVK6QX8AZyja"
      },
      "execution_count": null,
      "outputs": []
    },
    {
      "cell_type": "markdown",
      "source": [
        "## 2. Model Regresi"
      ],
      "metadata": {
        "id": "t0z8CdnSZm6g"
      }
    },
    {
      "cell_type": "code",
      "source": [
        "#Splitting data\n",
        "#Type Your Code Here"
      ],
      "metadata": {
        "id": "Emiwahi0Z1f2"
      },
      "execution_count": null,
      "outputs": []
    },
    {
      "cell_type": "code",
      "source": [
        "#Training Model\n",
        "#Type Your Code Here"
      ],
      "metadata": {
        "id": "TOmN5cf5Z6CH"
      },
      "execution_count": null,
      "outputs": []
    },
    {
      "cell_type": "markdown",
      "source": [
        "## 3. Hitung MSE & R2"
      ],
      "metadata": {
        "id": "EsloNCY3Z_G9"
      }
    },
    {
      "cell_type": "code",
      "source": [
        "#MSE\n",
        "#Type Your Code Here"
      ],
      "metadata": {
        "id": "IoMPmAGXaMid"
      },
      "execution_count": null,
      "outputs": []
    },
    {
      "cell_type": "code",
      "source": [
        "#R2\n",
        "#Type Your Code Here"
      ],
      "metadata": {
        "id": "hLF57hmDaPkq"
      },
      "execution_count": null,
      "outputs": []
    },
    {
      "cell_type": "markdown",
      "source": [
        "## 4. Visualisasi Data Prediksi"
      ],
      "metadata": {
        "id": "bjTNlybS-t1R"
      }
    },
    {
      "cell_type": "code",
      "source": [
        "#Plotting data prediksi dan testing untuk membandingkan\n",
        "#Type You Code Here"
      ],
      "metadata": {
        "id": "iE2rWGgTF0q5"
      },
      "execution_count": null,
      "outputs": []
    }
  ]
}